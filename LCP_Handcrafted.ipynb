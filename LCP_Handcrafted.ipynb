{
  "nbformat": 4,
  "nbformat_minor": 0,
  "metadata": {
    "colab": {
      "name": "LCP_Handcrafted.ipynb",
      "provenance": [],
      "collapsed_sections": [
        "AWIk3j1XN0g2",
        "7RA9EF7hN3K0"
      ]
    },
    "kernelspec": {
      "display_name": "Python 3",
      "name": "python3"
    },
    "language_info": {
      "name": "python"
    },
    "widgets": {
      "application/vnd.jupyter.widget-state+json": {
        "bd70fd7684ec4c408eee82e5751cd660": {
          "model_module": "@jupyter-widgets/controls",
          "model_name": "HBoxModel",
          "state": {
            "_view_name": "HBoxView",
            "_dom_classes": [],
            "_model_name": "HBoxModel",
            "_view_module": "@jupyter-widgets/controls",
            "_model_module_version": "1.5.0",
            "_view_count": null,
            "_view_module_version": "1.5.0",
            "box_style": "",
            "layout": "IPY_MODEL_1221a0c0fdee4ae0a2162a68637c663d",
            "_model_module": "@jupyter-widgets/controls",
            "children": [
              "IPY_MODEL_3050258a1ca647b58219da5fe798c86e",
              "IPY_MODEL_6021a2c63c234f76ac43b2edf9971e9d"
            ]
          }
        },
        "1221a0c0fdee4ae0a2162a68637c663d": {
          "model_module": "@jupyter-widgets/base",
          "model_name": "LayoutModel",
          "state": {
            "_view_name": "LayoutView",
            "grid_template_rows": null,
            "right": null,
            "justify_content": null,
            "_view_module": "@jupyter-widgets/base",
            "overflow": null,
            "_model_module_version": "1.2.0",
            "_view_count": null,
            "flex_flow": null,
            "width": null,
            "min_width": null,
            "border": null,
            "align_items": null,
            "bottom": null,
            "_model_module": "@jupyter-widgets/base",
            "top": null,
            "grid_column": null,
            "overflow_y": null,
            "overflow_x": null,
            "grid_auto_flow": null,
            "grid_area": null,
            "grid_template_columns": null,
            "flex": null,
            "_model_name": "LayoutModel",
            "justify_items": null,
            "grid_row": null,
            "max_height": null,
            "align_content": null,
            "visibility": null,
            "align_self": null,
            "height": null,
            "min_height": null,
            "padding": null,
            "grid_auto_rows": null,
            "grid_gap": null,
            "max_width": null,
            "order": null,
            "_view_module_version": "1.2.0",
            "grid_template_areas": null,
            "object_position": null,
            "object_fit": null,
            "grid_auto_columns": null,
            "margin": null,
            "display": null,
            "left": null
          }
        },
        "3050258a1ca647b58219da5fe798c86e": {
          "model_module": "@jupyter-widgets/controls",
          "model_name": "FloatProgressModel",
          "state": {
            "_view_name": "ProgressView",
            "style": "IPY_MODEL_4f6e6f401b1044638f43a7818ebc6f60",
            "_dom_classes": [],
            "description": "100%",
            "_model_name": "FloatProgressModel",
            "bar_style": "success",
            "max": 244715968,
            "_view_module": "@jupyter-widgets/controls",
            "_model_module_version": "1.5.0",
            "value": 244715968,
            "_view_count": null,
            "_view_module_version": "1.5.0",
            "orientation": "horizontal",
            "min": 0,
            "description_tooltip": null,
            "_model_module": "@jupyter-widgets/controls",
            "layout": "IPY_MODEL_6f648928b8c0410bbc51ea6e9a0a7854"
          }
        },
        "6021a2c63c234f76ac43b2edf9971e9d": {
          "model_module": "@jupyter-widgets/controls",
          "model_name": "HTMLModel",
          "state": {
            "_view_name": "HTMLView",
            "style": "IPY_MODEL_d1262ceafb8c4999994e16f4fe97ebc4",
            "_dom_classes": [],
            "description": "",
            "_model_name": "HTMLModel",
            "placeholder": "​",
            "_view_module": "@jupyter-widgets/controls",
            "_model_module_version": "1.5.0",
            "value": " 245M/245M [00:36&lt;00:00, 6.75MB/s]",
            "_view_count": null,
            "_view_module_version": "1.5.0",
            "description_tooltip": null,
            "_model_module": "@jupyter-widgets/controls",
            "layout": "IPY_MODEL_5f61b37c411a4bac95392c2854805664"
          }
        },
        "4f6e6f401b1044638f43a7818ebc6f60": {
          "model_module": "@jupyter-widgets/controls",
          "model_name": "ProgressStyleModel",
          "state": {
            "_view_name": "StyleView",
            "_model_name": "ProgressStyleModel",
            "description_width": "initial",
            "_view_module": "@jupyter-widgets/base",
            "_model_module_version": "1.5.0",
            "_view_count": null,
            "_view_module_version": "1.2.0",
            "bar_color": null,
            "_model_module": "@jupyter-widgets/controls"
          }
        },
        "6f648928b8c0410bbc51ea6e9a0a7854": {
          "model_module": "@jupyter-widgets/base",
          "model_name": "LayoutModel",
          "state": {
            "_view_name": "LayoutView",
            "grid_template_rows": null,
            "right": null,
            "justify_content": null,
            "_view_module": "@jupyter-widgets/base",
            "overflow": null,
            "_model_module_version": "1.2.0",
            "_view_count": null,
            "flex_flow": null,
            "width": null,
            "min_width": null,
            "border": null,
            "align_items": null,
            "bottom": null,
            "_model_module": "@jupyter-widgets/base",
            "top": null,
            "grid_column": null,
            "overflow_y": null,
            "overflow_x": null,
            "grid_auto_flow": null,
            "grid_area": null,
            "grid_template_columns": null,
            "flex": null,
            "_model_name": "LayoutModel",
            "justify_items": null,
            "grid_row": null,
            "max_height": null,
            "align_content": null,
            "visibility": null,
            "align_self": null,
            "height": null,
            "min_height": null,
            "padding": null,
            "grid_auto_rows": null,
            "grid_gap": null,
            "max_width": null,
            "order": null,
            "_view_module_version": "1.2.0",
            "grid_template_areas": null,
            "object_position": null,
            "object_fit": null,
            "grid_auto_columns": null,
            "margin": null,
            "display": null,
            "left": null
          }
        },
        "d1262ceafb8c4999994e16f4fe97ebc4": {
          "model_module": "@jupyter-widgets/controls",
          "model_name": "DescriptionStyleModel",
          "state": {
            "_view_name": "StyleView",
            "_model_name": "DescriptionStyleModel",
            "description_width": "",
            "_view_module": "@jupyter-widgets/base",
            "_model_module_version": "1.5.0",
            "_view_count": null,
            "_view_module_version": "1.2.0",
            "_model_module": "@jupyter-widgets/controls"
          }
        },
        "5f61b37c411a4bac95392c2854805664": {
          "model_module": "@jupyter-widgets/base",
          "model_name": "LayoutModel",
          "state": {
            "_view_name": "LayoutView",
            "grid_template_rows": null,
            "right": null,
            "justify_content": null,
            "_view_module": "@jupyter-widgets/base",
            "overflow": null,
            "_model_module_version": "1.2.0",
            "_view_count": null,
            "flex_flow": null,
            "width": null,
            "min_width": null,
            "border": null,
            "align_items": null,
            "bottom": null,
            "_model_module": "@jupyter-widgets/base",
            "top": null,
            "grid_column": null,
            "overflow_y": null,
            "overflow_x": null,
            "grid_auto_flow": null,
            "grid_area": null,
            "grid_template_columns": null,
            "flex": null,
            "_model_name": "LayoutModel",
            "justify_items": null,
            "grid_row": null,
            "max_height": null,
            "align_content": null,
            "visibility": null,
            "align_self": null,
            "height": null,
            "min_height": null,
            "padding": null,
            "grid_auto_rows": null,
            "grid_gap": null,
            "max_width": null,
            "order": null,
            "_view_module_version": "1.2.0",
            "grid_template_areas": null,
            "object_position": null,
            "object_fit": null,
            "grid_auto_columns": null,
            "margin": null,
            "display": null,
            "left": null
          }
        }
      }
    }
  },
  "cells": [
    {
      "cell_type": "markdown",
      "metadata": {
        "id": "VnewbPOSudcE"
      },
      "source": [
        "### NLP SemEval 2021 Task 1 - Lexical Complexity Prediction"
      ]
    },
    {
      "cell_type": "code",
      "metadata": {
        "colab": {
          "base_uri": "https://localhost:8080/"
        },
        "id": "Z0JMcLGKwE1I",
        "outputId": "2243bce3-24df-4c56-c227-d9add60e64be"
      },
      "source": [
        "!pip install syllables"
      ],
      "execution_count": null,
      "outputs": [
        {
          "output_type": "stream",
          "text": [
            "Collecting syllables\n",
            "  Downloading https://files.pythonhosted.org/packages/16/d9/81a31f640ccf405fdfd0eae8eebfc2579b438804dbf34dc03cad3e76169a/syllables-0.1.0-py2.py3-none-any.whl\n",
            "Installing collected packages: syllables\n",
            "Successfully installed syllables-0.1.0\n"
          ],
          "name": "stdout"
        }
      ]
    },
    {
      "cell_type": "code",
      "metadata": {
        "id": "TvfB2cbeCDzA"
      },
      "source": [
        "# %%bash\n",
        "# rm -rf sample_data"
      ],
      "execution_count": null,
      "outputs": []
    },
    {
      "cell_type": "code",
      "metadata": {
        "id": "eObOhzoJ3Efn"
      },
      "source": [
        "import torch, os, time, io\n",
        "import numpy as np\n",
        "from tqdm import tqdm\n",
        "from scipy import spatial "
      ],
      "execution_count": null,
      "outputs": []
    },
    {
      "cell_type": "code",
      "metadata": {
        "id": "a0-XuKxrWdS3"
      },
      "source": [
        "os.environ[\"WANDB_API_KEY\"] = \"4c52d1a3ccf7a8ea30016ee69d1e26ce2f9d0e67\""
      ],
      "execution_count": null,
      "outputs": []
    },
    {
      "cell_type": "code",
      "metadata": {
        "colab": {
          "base_uri": "https://localhost:8080/"
        },
        "id": "w1OTD6NnA7JJ",
        "outputId": "a2a40fab-6711-4b05-9052-18824faa4425"
      },
      "source": [
        "data_drive_location = \"/content/drive/MyDrive/Data\"\n",
        "print(os.getcwd())\n",
        "if not os.getcwd() == data_drive_location:\n",
        "  os.chdir(data_drive_location)"
      ],
      "execution_count": null,
      "outputs": [
        {
          "output_type": "stream",
          "text": [
            "/content\n"
          ],
          "name": "stdout"
        }
      ]
    },
    {
      "cell_type": "code",
      "metadata": {
        "id": "fiCXZYwgQoqr"
      },
      "source": [
        "# # import SUBTLEX-US for word with freq>1\n",
        "# %%bash\n",
        "# wget -q 'https://www.ugent.be/pp/experimentele-psychologie/en/research/documents/subtlexus/subtlexus4.zip' -O 'SUBTLEXUS.zip'\n",
        "# unzip -o 'SUBTLEXUS.zip'\n",
        "# mv \"SUBTLEXusfrequencyabove1.xls\" \"SUBTLEXUS.xls\""
      ],
      "execution_count": null,
      "outputs": []
    },
    {
      "cell_type": "markdown",
      "metadata": {
        "id": "KDY3XSz9vQBl"
      },
      "source": [
        "Count-based and surface form features\n",
        "\n",
        "*   Length of word\n",
        "*   Syllable Count\n",
        "*   Word Frequency Using Subtlex-US*\n",
        "\n",
        "\n",
        "\n",
        "\n"
      ]
    },
    {
      "cell_type": "code",
      "metadata": {
        "colab": {
          "base_uri": "https://localhost:8080/"
        },
        "id": "WPqcJ9cSvofw",
        "outputId": "95de8cc6-4701-4cf6-8d25-4cb54dadf254"
      },
      "source": [
        "import syllables\n",
        "import nltk, math\n",
        "import pandas as pd\n",
        "from nltk.stem.porter import PorterStemmer\n",
        "from nltk.corpus import wordnet as wn\n",
        "from collections import defaultdict\n",
        "nltk.download('averaged_perceptron_tagger')\n",
        "nltk.download('wordnet')\n",
        "nltk.download('punkt')\n",
        "stemmer = PorterStemmer()"
      ],
      "execution_count": null,
      "outputs": [
        {
          "output_type": "stream",
          "text": [
            "[nltk_data] Downloading package averaged_perceptron_tagger to\n",
            "[nltk_data]     /root/nltk_data...\n",
            "[nltk_data]   Unzipping taggers/averaged_perceptron_tagger.zip.\n",
            "[nltk_data] Downloading package wordnet to /root/nltk_data...\n",
            "[nltk_data]   Unzipping corpora/wordnet.zip.\n",
            "[nltk_data] Downloading package punkt to /root/nltk_data...\n",
            "[nltk_data]   Unzipping tokenizers/punkt.zip.\n"
          ],
          "name": "stdout"
        }
      ]
    },
    {
      "cell_type": "code",
      "metadata": {
        "id": "1M1uDLC_zdpN"
      },
      "source": [
        "def read_subtlex(filename=\"SUBTLEXUS.xls\"):\n",
        "  dfs = pd.read_excel(filename)\n",
        "  return dfs"
      ],
      "execution_count": null,
      "outputs": []
    },
    {
      "cell_type": "code",
      "metadata": {
        "id": "bokeyV5U0GeK"
      },
      "source": [
        "def get_log_freq_from_SUBTLEX():\n",
        "  frame = read_subtlex()\n",
        "  frequency = defaultdict(float)\n",
        "  for i in tqdm(range(len(frame))):\n",
        "    word = str(frame.Word[i])\n",
        "    SUBTLwf = frame.SUBTLWF[i]\n",
        "    token = stemmer.stem(word.lower())\n",
        "    frequency[token] += float(SUBTLwf)\n",
        "  log_freq = {k: math.log2(v) for k,v in frequency.items()}\n",
        "  return log_freq"
      ],
      "execution_count": null,
      "outputs": []
    },
    {
      "cell_type": "code",
      "metadata": {
        "colab": {
          "base_uri": "https://localhost:8080/"
        },
        "id": "f4Hn0FIcuwkk",
        "outputId": "5d38626f-fd10-419b-e4af-0191e1287071"
      },
      "source": [
        "log_freq = get_log_freq_from_SUBTLEX()\n",
        "def surface_features(word):\n",
        "  freq = 0\n",
        "  try:\n",
        "    freq = log_freq[word]\n",
        "  except:\n",
        "    pass\n",
        "\n",
        "  num_upper = len([_ for _ in word if _.isupper()])/len(word)\n",
        "  return [len(word), syllables.estimate(word), freq, num_upper]"
      ],
      "execution_count": null,
      "outputs": [
        {
          "output_type": "stream",
          "text": [
            "100%|██████████| 60384/60384 [00:03<00:00, 19308.59it/s]\n"
          ],
          "name": "stderr"
        }
      ]
    },
    {
      "cell_type": "code",
      "metadata": {
        "id": "yNb3KScbEQCj"
      },
      "source": [
        "# # POS DICTIONARY\n",
        "# # To be used for embeddings\n",
        "# posdict = {\"$\", \"''\",\"(\",\")\",\",\",\"--\",\".\", \":\", \"CC\", \"CD\", \"DT\", \"EX\", \"FW\", \"IN\",\"JJ\",\"JJR\",\"JJS\",\"LS\",\"MD\",\"NN\",\"NNP\",\"NNPS\", \"NNS\",\"PDT\",\"POS\",\"PRP\",\"PRP$\",\"RB\",\"RBR\",\"RBS\", \"RP\",\"SYM\", \"TO\", \"UH\",\"VB\",\"VBD\",\"VBG\",\"VBN\",\"VBP\",\"VBZ\",\"WDT\",\"WP\",\"WP$\",\"WRB\",\"``\"}\n",
        "# posdict = {y:x for x,y in enumerate(posdict)}\n",
        "# print(posdict)"
      ],
      "execution_count": null,
      "outputs": []
    },
    {
      "cell_type": "markdown",
      "metadata": {
        "id": "3nX9GBcWyQeE"
      },
      "source": [
        "Morphological Features\n",
        "*   Part-of-speech\n",
        "*   Length of suffix from Stemmed Word\n",
        "\n"
      ]
    },
    {
      "cell_type": "code",
      "metadata": {
        "id": "c9UmsWN_0hEa"
      },
      "source": [
        "def morphological_features(word):\n",
        "  word = word.lower()\n",
        "  # pos^, stemmer (len(word) - len(stem))\n",
        "  #    ^ might need to omit\n",
        "  # pos = nltk.pos_tag([word])[0][1]\n",
        "    # print(pos, posdict[pos])\n",
        "  word_stemmed = stemmer.stem(word)\n",
        "  # return [posdict[pos], len(word) - len(word_stemmed)]\n",
        "  return [len(word) - len(word_stemmed)]"
      ],
      "execution_count": null,
      "outputs": []
    },
    {
      "cell_type": "markdown",
      "metadata": {
        "id": "K5EaCYHFyfXJ"
      },
      "source": [
        "Semantic Features\n",
        "*   Degree of Hypernyms\n",
        "* Degree of Hyponyms\n",
        "*   Degree of Polysemy\n",
        "\n"
      ]
    },
    {
      "cell_type": "code",
      "metadata": {
        "id": "RAyVujKYOcfk"
      },
      "source": [
        "def semantic_features(word):\n",
        "  # polysemy and homonymy* \n",
        "  #                      *not doing for now\n",
        "  try:\n",
        "    results = wordnet.synsets(word)\n",
        "  except:\n",
        "    return [0,0,0]\n",
        "  polysemy = len(results)\n",
        "  hypernyms=0\n",
        "  hyponyms=0\n",
        "  try:\n",
        "      hypernyms = len(results[0].hypernyms())\n",
        "      hyponyms = len(results[0].hyponyms())\n",
        "  except:\n",
        "    pass\n",
        "  return [polysemy, hypernyms, hyponyms]"
      ],
      "execution_count": null,
      "outputs": []
    },
    {
      "cell_type": "markdown",
      "metadata": {
        "id": "-hdl4iuIvcFq"
      },
      "source": [
        "Singularity/Plurality"
      ]
    },
    {
      "cell_type": "code",
      "metadata": {
        "id": "1Quq2PF9fZF2"
      },
      "source": [
        "#Plurality Singularity Feature using inflect\n",
        "import sys\n",
        "sys.path.insert(0, \"./src/inflect\")\n",
        "import inflect\n",
        "def Singularity_Plurality(word):\n",
        "  engine = inflect.engine()\n",
        "  is_Singular=False\n",
        "  is_Plural=False\n",
        "  is_singular_plural=False\n",
        "  if(engine.singular_noun(word)==False):\n",
        "    is_Singular=True\n",
        "  else:\n",
        "    is_Plural=True\n",
        "  if(engine.plural(word)==word):\n",
        "    is_singular_plural=True\n",
        "  if(is_singular_plural):\n",
        "    Result=[0,0,1]\n",
        "  else:\n",
        "    if(is_Singular):\n",
        "      Result=[1,0,0]\n",
        "    else:\n",
        "      Result=[0,1,0]\n",
        "  return Result"
      ],
      "execution_count": null,
      "outputs": []
    },
    {
      "cell_type": "code",
      "metadata": {
        "colab": {
          "base_uri": "https://localhost:8080/"
        },
        "id": "geCZeQExiD-K",
        "outputId": "206d3a09-47aa-4a4b-9a07-498a510dfa12"
      },
      "source": [
        "ogden_dictionary={}\n",
        "with open(\"ogden.txt\",\"r\") as f:\n",
        "  for line in f.readlines():\n",
        "    ogden_dictionary[line.strip()]=1\n",
        "print(len(ogden_dictionary))\n",
        "def ogden_word_set(word):\n",
        "  if(word in ogden_dictionary.keys()):\n",
        "    return [1]\n",
        "  else:\n",
        "    return [0]"
      ],
      "execution_count": null,
      "outputs": [
        {
          "output_type": "stream",
          "text": [
            "848\n"
          ],
          "name": "stdout"
        }
      ]
    },
    {
      "cell_type": "code",
      "metadata": {
        "colab": {
          "base_uri": "https://localhost:8080/"
        },
        "id": "yXeNeZHDiGrq",
        "outputId": "46c6959f-5a44-44d7-dcb8-5d4bdacdd493"
      },
      "source": [
        "wiki_dictionary={}\n",
        "with open(\"wiki.txt\",\"r\") as f:\n",
        "  for line in f.readlines():\n",
        "    wiki_dictionary[line.strip()]=1\n",
        "print(len(wiki_dictionary))\n",
        "def wiki_word_set(word):\n",
        "  if(word in wiki_dictionary.keys()):\n",
        "    return [1]\n",
        "  else:\n",
        "    return [0]"
      ],
      "execution_count": null,
      "outputs": [
        {
          "output_type": "stream",
          "text": [
            "2019\n"
          ],
          "name": "stdout"
        }
      ]
    },
    {
      "cell_type": "code",
      "metadata": {
        "id": "W70RoYLPiI8A"
      },
      "source": [
        "subIMDB_dictionary={}\n",
        "import re\n",
        "with open(\"subtitles.txt\",\"r\") as f:\n",
        "  for line in f.readlines():\n",
        "    res = re.sub(r'[^\\w\\s]', '',line)\n",
        "    for x in res.split():\n",
        "      subIMDB_dictionary[x]=1\n",
        "def subIMDB_word_set(word):\n",
        "  if(word in subIMDB_dictionary.keys()):\n",
        "    return [1]\n",
        "  else:\n",
        "    return [0]"
      ],
      "execution_count": null,
      "outputs": []
    },
    {
      "cell_type": "code",
      "metadata": {
        "id": "d3QAbg4QiNY5"
      },
      "source": [
        "# !pip install python-datamuse\n",
        "# from datamuse import datamuse\n",
        "# api = datamuse.Datamuse()\n",
        "# def google_word_frequency(word):\n",
        "#   try:\n",
        "#     result=api.words(sp=word, max=1, md='f')\n",
        "#     return [float(result[0][\"tags\"][0][2:])]\n",
        "#   except:\n",
        "#     return [0.000]"
      ],
      "execution_count": null,
      "outputs": []
    },
    {
      "cell_type": "code",
      "metadata": {
        "id": "Fr3Kdy-siye3"
      },
      "source": [
        "def bindal_features(word):\n",
        "  word=word.lower()\n",
        "  word=res = re.sub(r'[^\\w\\s]', '',word)\n",
        "  return Singularity_Plurality(word)+ogden_word_set(word)+wiki_word_set(word)+subIMDB_word_set(word)"
      ],
      "execution_count": null,
      "outputs": []
    },
    {
      "cell_type": "code",
      "metadata": {
        "id": "Ecda00pxwaMJ"
      },
      "source": [
        "def handcrafted(word):\n",
        "  return surface_features(word) + morphological_features(word) + semantic_features(word)+bindal_features(word)"
      ],
      "execution_count": null,
      "outputs": []
    },
    {
      "cell_type": "code",
      "metadata": {
        "id": "F-rhMbXDJwG1"
      },
      "source": [
        "def handcrafted_multi(multiword):\n",
        "  first, second = multiword.split()\n",
        "  avg = [(x+y)/2 for x,y in zip(surface_features(first)+morphological_features(first),surface_features(second)+morphological_features(second))]\n",
        "  second_features = semantic_features(second)+bindal_features(second)\n",
        "\n",
        "  return avg + second_features\n"
      ],
      "execution_count": null,
      "outputs": []
    },
    {
      "cell_type": "code",
      "metadata": {
        "colab": {
          "base_uri": "https://localhost:8080/"
        },
        "id": "b7BV40IwKrHT",
        "outputId": "3ee09bc0-2cf2-4b0b-a5b2-ea0b61a14ef2"
      },
      "source": [
        "handcrafted_multi(\"fast racer\")"
      ],
      "execution_count": null,
      "outputs": [
        {
          "output_type": "execute_result",
          "data": {
            "text/plain": [
              "[4.5, 1.5, 4.660190562456907, 0.0, 0.0, 0, 0, 0, 1, 0, 0, 0, 0, 1]"
            ]
          },
          "metadata": {
            "tags": []
          },
          "execution_count": 24
        }
      ]
    },
    {
      "cell_type": "code",
      "metadata": {
        "colab": {
          "base_uri": "https://localhost:8080/"
        },
        "id": "VgXlk-cuwi2f",
        "outputId": "f9f97451-8cdf-4dad-b133-f89910fd619f"
      },
      "source": [
        "handcrafted(\"Racer\")"
      ],
      "execution_count": null,
      "outputs": [
        {
          "output_type": "execute_result",
          "data": {
            "text/plain": [
              "[5, 2, 0, 0.2, 0, 0, 0, 0, 1, 0, 0, 0, 0, 1]"
            ]
          },
          "metadata": {
            "tags": []
          },
          "execution_count": 25
        }
      ]
    },
    {
      "cell_type": "markdown",
      "metadata": {
        "id": "lCYpeFzg6k4h"
      },
      "source": [
        "DOWNLOAD DATASET"
      ]
    },
    {
      "cell_type": "code",
      "metadata": {
        "id": "i5snWOQv1E6F"
      },
      "source": [
        "# # DOWNLOAD DATASET\n",
        "# %%bash\n",
        "# mkdir dataset\n",
        "# cd dataset\n",
        "# mkdir train\n",
        "# wget -q 'https://raw.githubusercontent.com/MMU-TDMLab/CompLex/master/train/lcp_single_train.tsv' -O 'train/lcp_single_train.tsv'\n",
        "# wget -q 'https://raw.githubusercontent.com/MMU-TDMLab/CompLex/master/train/lcp_multi_train.tsv' -O 'train/lcp_multi_train.tsv'\n",
        "\n",
        "# mkdir trial\n",
        "# wget -q 'https://raw.githubusercontent.com/MMU-TDMLab/CompLex/master/trial/lcp_single_trial.tsv' -O 'trial/lcp_single_trial.tsv'\n",
        "# wget -q 'https://raw.githubusercontent.com/MMU-TDMLab/CompLex/master/trial/lcp_multi_trial.tsv' -O 'trial/lcp_multi_trial.tsv'\n",
        "\n",
        "# mkdir test\n",
        "# wget -q 'https://raw.githubusercontent.com/MMU-TDMLab/CompLex/master/test/lcp_single_test.tsv' -O 'test/lcp_single_test.tsv'\n",
        "# wget -q 'https://raw.githubusercontent.com/MMU-TDMLab/CompLex/master/test/lcp_multi_test.tsv' -O 'test/lcp_multi_test.tsv'"
      ],
      "execution_count": null,
      "outputs": []
    },
    {
      "cell_type": "markdown",
      "metadata": {
        "id": "WT1vyeZ_ARcM"
      },
      "source": [
        "#GloVe\n",
        "\n",
        "Using pre-trained glove to perform some embeddings\n",
        "\n",
        "\n",
        " \n"
      ]
    },
    {
      "cell_type": "code",
      "metadata": {
        "id": "03ZpCyki7BaI"
      },
      "source": [
        "# %%bash\n",
        "# wget -p \"http://downloads.cs.stanford.edu/nlp/data/glove.840B.300d.zip\" -O \"glove.840B.300d.zip\"\n",
        "# unzip \"glove.840B.300d.zip\""
      ],
      "execution_count": null,
      "outputs": []
    },
    {
      "cell_type": "code",
      "metadata": {
        "id": "zpiBlXvWZSUf"
      },
      "source": [
        "# %%bash\n",
        "# wget -p \"https://nlp.stanford.edu/data/wordvecs/glove.42B.300d.zip\" -O \"glove.42B.300d.zip\"\n",
        "# unzip \"glove.42B.300d.zip\""
      ],
      "execution_count": null,
      "outputs": []
    },
    {
      "cell_type": "code",
      "metadata": {
        "id": "IqmRZhNHMEn5"
      },
      "source": [
        "# %%bash\n",
        "# wget -p \"http://nlp.stanford.edu/data/glove.6B.zip\" -O \"glove.6B.zip\"\n",
        "# unzip \"glove.6B.zip\""
      ],
      "execution_count": null,
      "outputs": []
    },
    {
      "cell_type": "code",
      "metadata": {
        "id": "JOLLuwc4EA4z"
      },
      "source": [
        "def get_glove_w2v(filename):\n",
        "  with open(filename,\"r\",encoding=\"utf8\") as lines:\n",
        "    glove_w2v = {}\n",
        "    # count=0\n",
        "    for line in tqdm(lines):\n",
        "      # count+=1\n",
        "      # if(count>10):\n",
        "        # break\n",
        "      values = line.split()\n",
        "      # print(line[:-300],\"\\t%%%%%%%%\\t\", line[-300:])\n",
        "      word = ''.join(values[:-300])\n",
        "      vector = np.asarray(values[-300:],dtype='float32')\n",
        "      glove_w2v[word.lower()] = vector\n",
        "    print(\"\\nEmbeddings loaded from glove:\",len(glove_w2v))\n",
        "    return glove_w2v"
      ],
      "execution_count": null,
      "outputs": []
    },
    {
      "cell_type": "code",
      "metadata": {
        "colab": {
          "base_uri": "https://localhost:8080/"
        },
        "id": "S1feagyHJYM5",
        "outputId": "30d10185-50a0-4368-d920-cc4048385f09"
      },
      "source": [
        "glove_w2v_loc = \"glove.6B.300d.txt\"\n",
        "glove_w2v = get_glove_w2v(glove_w2v_loc)\n",
        "# glove_w2v_\n",
        "# glove_w2v_large_loc = \"glove.840B.300d.txt\"\n",
        "# glove_w2v_large = get_glove_w2v(glove_w2v_large_loc)"
      ],
      "execution_count": null,
      "outputs": [
        {
          "output_type": "stream",
          "text": [
            "400000it [00:41, 9653.09it/s] "
          ],
          "name": "stderr"
        },
        {
          "output_type": "stream",
          "text": [
            "\n",
            "Embeddings loaded from glove: 400000\n"
          ],
          "name": "stdout"
        },
        {
          "output_type": "stream",
          "text": [
            "\n"
          ],
          "name": "stderr"
        }
      ]
    },
    {
      "cell_type": "code",
      "metadata": {
        "id": "DuOw9zzgwZHF"
      },
      "source": [
        "# %%bash\n",
        "# mkdir fastText\n",
        "# curl -Lo fastText/crawl-300d-2M.vec.zip https://dl.fbaipublicfiles.com/fasttext/vectors-english/crawl-300d-2M.vec.zip\n",
        "# unzip fastText/crawl-300d-2M.vec.zip -d fastText/"
      ],
      "execution_count": null,
      "outputs": []
    },
    {
      "cell_type": "code",
      "metadata": {
        "id": "VpyAezGcx0GA"
      },
      "source": [
        "# %%bash\n",
        "# mkdir encoder\n",
        "# curl -Lo encoder/infersent2.pkl https://dl.fbaipublicfiles.com/infersent/infersent2.pkl"
      ],
      "execution_count": null,
      "outputs": []
    },
    {
      "cell_type": "code",
      "metadata": {
        "id": "PPYDCcBsIIVT"
      },
      "source": [
        "# import io\n",
        "\n",
        "# def load_vectors(fname):\n",
        "#     fin = io.open(fname, 'r', encoding='utf-8', newline='\\n', errors='ignore')\n",
        "#     n, d = map(int, fin.readline().split())\n",
        "#     data = {}\n",
        "#     for line in fin:\n",
        "#         tokens = line.rstrip().split(' ')\n",
        "#         data[tokens[0]] = map(float, tokens[1:])\n",
        "#     return data"
      ],
      "execution_count": null,
      "outputs": []
    },
    {
      "cell_type": "code",
      "metadata": {
        "id": "LIAoQ88d_50L"
      },
      "source": [
        "# from models import InferSent\n",
        "# V = 2\n",
        "# MODEL_PATH = 'encoder/infersent%s.pkl' % V\n",
        "# params_model = {'bsize': 64, 'word_emb_dim': 300, 'enc_lstm_dim': 2048,\n",
        "#                 'pool_type': 'max', 'dpout_model': 0.0, 'version': V}\n",
        "# infersent = InferSent(params_model)\n",
        "# infersent.load_state_dict(torch.load(MODEL_PATH))"
      ],
      "execution_count": null,
      "outputs": []
    },
    {
      "cell_type": "code",
      "metadata": {
        "id": "QWbM1pV5_kpM"
      },
      "source": [
        "# W2V_PATH = 'fastText/crawl-300d-2M.vec'\n",
        "# infersent.set_w2v_path(W2V_PATH)"
      ],
      "execution_count": null,
      "outputs": []
    },
    {
      "cell_type": "code",
      "metadata": {
        "id": "y7wUZnksIKTD"
      },
      "source": [
        "# fasttext_w2v = load_vectors(W2V_PATH)"
      ],
      "execution_count": null,
      "outputs": []
    },
    {
      "cell_type": "code",
      "metadata": {
        "id": "F2exKZJdEHV_"
      },
      "source": [
        "#infersent.build_vocab_k_words(K=5000000)"
      ],
      "execution_count": null,
      "outputs": []
    },
    {
      "cell_type": "markdown",
      "metadata": {
        "id": "mVt7r5ZGO6SV"
      },
      "source": [
        "# Sentence Bert"
      ]
    },
    {
      "cell_type": "code",
      "metadata": {
        "id": "qbD_K0bPj2PR"
      },
      "source": [
        "!pip install sentence_transformers"
      ],
      "execution_count": null,
      "outputs": []
    },
    {
      "cell_type": "code",
      "metadata": {
        "id": "H7V0jFAcglxU"
      },
      "source": [
        "from sentence_transformers import SentenceTransformer"
      ],
      "execution_count": null,
      "outputs": []
    },
    {
      "cell_type": "markdown",
      "metadata": {
        "id": "4m3IS-zqlQBy"
      },
      "source": [
        "\n",
        "We will use \"stsb-distilbert-base\" as our model for the task.\n",
        "It provides an performance (Pearson Scale) > 80% on STSb dataset and has a speed of 4000 sentences/ sec on V1000GPU, which is the highest among the pretrained models available at SBert.net: https://docs.google.com/spreadsheets/d/14QplCdTCDwEmTqrn1LH4yrbKvdogK4oQvYO1K1aPR5M/edit#gid=0\n",
        "\n",
        "We will also try out Roberta which has even higher Performance at the cost of speed"
      ]
    },
    {
      "cell_type": "code",
      "metadata": {
        "id": "bVDCfe3Ij_WE",
        "colab": {
          "base_uri": "https://localhost:8080/",
          "height": 66,
          "referenced_widgets": [
            "bd70fd7684ec4c408eee82e5751cd660",
            "1221a0c0fdee4ae0a2162a68637c663d",
            "3050258a1ca647b58219da5fe798c86e",
            "6021a2c63c234f76ac43b2edf9971e9d",
            "4f6e6f401b1044638f43a7818ebc6f60",
            "6f648928b8c0410bbc51ea6e9a0a7854",
            "d1262ceafb8c4999994e16f4fe97ebc4",
            "5f61b37c411a4bac95392c2854805664"
          ]
        },
        "outputId": "84692d7a-5f8e-46db-8476-fe00d5d9752b"
      },
      "source": [
        "sbert_model = SentenceTransformer('stsb-distilbert-base')\n",
        "# sbert_model = SentenceTransformer('stsb-roberta-large')"
      ],
      "execution_count": null,
      "outputs": [
        {
          "output_type": "display_data",
          "data": {
            "application/vnd.jupyter.widget-view+json": {
              "model_id": "bd70fd7684ec4c408eee82e5751cd660",
              "version_minor": 0,
              "version_major": 2
            },
            "text/plain": [
              "HBox(children=(FloatProgress(value=0.0, max=244715968.0), HTML(value='')))"
            ]
          },
          "metadata": {
            "tags": []
          }
        },
        {
          "output_type": "stream",
          "text": [
            "\n"
          ],
          "name": "stdout"
        }
      ]
    },
    {
      "cell_type": "code",
      "metadata": {
        "id": "-E8EMSvXlAWy"
      },
      "source": [
        "# sbert_model.eval()"
      ],
      "execution_count": null,
      "outputs": []
    },
    {
      "cell_type": "code",
      "metadata": {
        "id": "I5XyhzOJm5Oy"
      },
      "source": [
        "# roberta_model = SentenceTransformer('stsb-roberta-base')"
      ],
      "execution_count": null,
      "outputs": []
    },
    {
      "cell_type": "code",
      "metadata": {
        "id": "mebI6AptnGgs"
      },
      "source": [
        "def get_embedding_for_context(ctx, model):\n",
        "  if not isinstance(ctx, list):\n",
        "    ctx = [ctx]\n",
        "  return model.encode(ctx)"
      ],
      "execution_count": null,
      "outputs": []
    },
    {
      "cell_type": "code",
      "metadata": {
        "id": "3i276SqFtq2P"
      },
      "source": [
        "# def test_models(model):\n",
        "#   start = time.time()\n",
        "#   get_embedding_for_context(\"This is test sentence\", model)\n",
        "#   print(\"Time for single prediction: \", time.time()-start)\n",
        "#   start = time.time()\n",
        "#   get_embedding_for_context([\"This is test sentence\"]*3000, model)\n",
        "#   print(\"Time for 3,000 prediction: \", time.time()-start)"
      ],
      "execution_count": null,
      "outputs": []
    },
    {
      "cell_type": "code",
      "metadata": {
        "id": "1gew_a7itucS"
      },
      "source": [
        "# test_models(sbert_model)\n",
        "# test_models(infersent)"
      ],
      "execution_count": null,
      "outputs": []
    },
    {
      "cell_type": "code",
      "metadata": {
        "id": "z-MstX7quRMM"
      },
      "source": [
        "# test_models(roberta_model)"
      ],
      "execution_count": null,
      "outputs": []
    },
    {
      "cell_type": "markdown",
      "metadata": {
        "id": "kNbYOmY97grQ"
      },
      "source": [
        "# Data Collection"
      ]
    },
    {
      "cell_type": "code",
      "metadata": {
        "id": "MBo07-Oi5X2t"
      },
      "source": [
        "import csv\n",
        "def get_data_print_details(filepath, crps = 'corpus'):\n",
        "  df_path_single = pd.read_csv(filepath, quoting=csv.QUOTE_NONE, sep='\\t', header=0)\n",
        "  print(\"Data columns:\")\n",
        "  print(df_path_single.columns)\n",
        "  print(\"\\nTotal corpus len: {}\".format(len(df_path_single)))\n",
        "  print(\"\\nSubcorpus len:\")\n",
        "  print(df_path_single[crps].value_counts())\n",
        "  return df_path_single"
      ],
      "execution_count": null,
      "outputs": []
    },
    {
      "cell_type": "markdown",
      "metadata": {
        "id": "SSWPHzGvMUDy"
      },
      "source": [
        "#sINGLE"
      ]
    },
    {
      "cell_type": "markdown",
      "metadata": {
        "id": "Vkz9-Ccs5WQk"
      },
      "source": [
        "Train Data"
      ]
    },
    {
      "cell_type": "code",
      "metadata": {
        "id": "cC-UpLfh5UaX"
      },
      "source": [
        "train_single_tsv = 'dataset/train/lcp_single_train.tsv'"
      ],
      "execution_count": null,
      "outputs": []
    },
    {
      "cell_type": "code",
      "metadata": {
        "colab": {
          "base_uri": "https://localhost:8080/"
        },
        "id": "H-MYlODI6CGM",
        "outputId": "f8221128-1325-474c-d24b-a64f3c4e5d38"
      },
      "source": [
        "df_train_single = get_data_print_details(train_single_tsv)"
      ],
      "execution_count": null,
      "outputs": [
        {
          "output_type": "stream",
          "text": [
            "Data columns:\n",
            "Index(['id', 'corpus', 'sentence', 'token', 'complexity'], dtype='object')\n",
            "\n",
            "Total corpus len: 7662\n",
            "\n",
            "Subcorpus len:\n",
            "biomed      2576\n",
            "bible       2574\n",
            "europarl    2512\n",
            "Name: corpus, dtype: int64\n"
          ],
          "name": "stdout"
        }
      ]
    },
    {
      "cell_type": "markdown",
      "metadata": {
        "id": "tBqlijA65lo2"
      },
      "source": [
        "Test Data"
      ]
    },
    {
      "cell_type": "code",
      "metadata": {
        "colab": {
          "base_uri": "https://localhost:8080/"
        },
        "id": "sksHwOms5fGv",
        "outputId": "4c29f2aa-dfeb-437c-872a-5f6f3c18996f"
      },
      "source": [
        "test_single_tsv = 'dataset/test/lcp_single_test.tsv'\n",
        "df_test_single = get_data_print_details(test_single_tsv)"
      ],
      "execution_count": null,
      "outputs": [
        {
          "output_type": "stream",
          "text": [
            "Data columns:\n",
            "Index(['id', 'corpus', 'sentence', 'token'], dtype='object')\n",
            "\n",
            "Total corpus len: 917\n",
            "\n",
            "Subcorpus len:\n",
            "europarl    345\n",
            "biomed      289\n",
            "bible       283\n",
            "Name: corpus, dtype: int64\n"
          ],
          "name": "stdout"
        }
      ]
    },
    {
      "cell_type": "markdown",
      "metadata": {
        "id": "ZdsUNaru6g-T"
      },
      "source": [
        "Trail Data"
      ]
    },
    {
      "cell_type": "code",
      "metadata": {
        "colab": {
          "base_uri": "https://localhost:8080/"
        },
        "id": "pWWRQGlq6dzu",
        "outputId": "4707f8d9-2180-4ddb-a42f-a94d4bd15d77"
      },
      "source": [
        "trial_single_tsv = 'dataset/trial/lcp_single_trial.tsv'\n",
        "df_trial_single = get_data_print_details(trial_single_tsv,'subcorpus')"
      ],
      "execution_count": null,
      "outputs": [
        {
          "output_type": "stream",
          "text": [
            "Data columns:\n",
            "Index(['id', 'subcorpus', 'sentence', 'token', 'complexity'], dtype='object')\n",
            "\n",
            "Total corpus len: 421\n",
            "\n",
            "Subcorpus len:\n",
            "bible       143\n",
            "europarl    143\n",
            "biomed      135\n",
            "Name: subcorpus, dtype: int64\n"
          ],
          "name": "stdout"
        }
      ]
    },
    {
      "cell_type": "markdown",
      "metadata": {
        "id": "GdRe9e8IMYwi"
      },
      "source": [
        "#mULTI"
      ]
    },
    {
      "cell_type": "code",
      "metadata": {
        "colab": {
          "base_uri": "https://localhost:8080/"
        },
        "id": "jNHnR40DMamj",
        "outputId": "bb0bbd02-ae4d-4845-d2c9-147ed22df8eb"
      },
      "source": [
        "train_multi_tsv = 'dataset/train/lcp_multi_train.tsv'\n",
        "df_train_multi = get_data_print_details(train_multi_tsv)"
      ],
      "execution_count": null,
      "outputs": [
        {
          "output_type": "stream",
          "text": [
            "Data columns:\n",
            "Index(['id', 'corpus', 'sentence', 'token', 'complexity'], dtype='object')\n",
            "\n",
            "Total corpus len: 1517\n",
            "\n",
            "Subcorpus len:\n",
            "biomed      514\n",
            "bible       505\n",
            "europarl    498\n",
            "Name: corpus, dtype: int64\n"
          ],
          "name": "stdout"
        }
      ]
    },
    {
      "cell_type": "code",
      "metadata": {
        "colab": {
          "base_uri": "https://localhost:8080/"
        },
        "id": "V0TQbybgMruM",
        "outputId": "5623f65d-39b5-4716-a473-ce24151b61d2"
      },
      "source": [
        "test_multi_tsv = 'dataset/test/lcp_multi_test.tsv'\n",
        "df_test_multi = get_data_print_details(test_multi_tsv)"
      ],
      "execution_count": null,
      "outputs": [
        {
          "output_type": "stream",
          "text": [
            "Data columns:\n",
            "Index(['id', 'corpus', 'sentence', 'token'], dtype='object')\n",
            "\n",
            "Total corpus len: 184\n",
            "\n",
            "Subcorpus len:\n",
            "bible       66\n",
            "europarl    65\n",
            "biomed      53\n",
            "Name: corpus, dtype: int64\n"
          ],
          "name": "stdout"
        }
      ]
    },
    {
      "cell_type": "code",
      "metadata": {
        "colab": {
          "base_uri": "https://localhost:8080/"
        },
        "id": "GvxShfnWMsCy",
        "outputId": "0d5612f4-e7bb-4a90-8a48-642e7d06a910"
      },
      "source": [
        "trial_multi_tsv = 'dataset/trial/lcp_multi_trial.tsv'\n",
        "df_trial_multi = get_data_print_details(trial_multi_tsv,'subcorpus')"
      ],
      "execution_count": null,
      "outputs": [
        {
          "output_type": "stream",
          "text": [
            "Data columns:\n",
            "Index(['id', 'subcorpus', 'sentence', 'token', 'complexity'], dtype='object')\n",
            "\n",
            "Total corpus len: 99\n",
            "\n",
            "Subcorpus len:\n",
            "europarl    37\n",
            "biomed      33\n",
            "bible       29\n",
            "Name: subcorpus, dtype: int64\n"
          ],
          "name": "stdout"
        }
      ]
    },
    {
      "cell_type": "markdown",
      "metadata": {
        "id": "Q0hHefC9McdG"
      },
      "source": [
        "#LOAD DATASET"
      ]
    },
    {
      "cell_type": "markdown",
      "metadata": {
        "id": "0C4_63S07AKr"
      },
      "source": [
        "Load DataSet"
      ]
    },
    {
      "cell_type": "code",
      "metadata": {
        "id": "8aPGkrg065pf"
      },
      "source": [
        "from torch.utils.data import Dataset"
      ],
      "execution_count": null,
      "outputs": []
    },
    {
      "cell_type": "code",
      "metadata": {
        "id": "Fl4nEwhY7Ho6"
      },
      "source": [
        "def preprocess_embeddings(data, model):\n",
        "  sent_embed = {}\n",
        "  all_sent = data['sentence'].tolist()\n",
        "\n",
        "  start= time.time()\n",
        "  all_sent_embed = get_embedding_for_context(all_sent, model)\n",
        "  print(\"All sentences Embedded in :\", time.time()-start)\n",
        "  return all_sent_embed"
      ],
      "execution_count": null,
      "outputs": []
    },
    {
      "cell_type": "code",
      "metadata": {
        "id": "b1AxqSQM7krh"
      },
      "source": [
        "# embed_sbert = preprocess_embeddings(df_trial_single, sbert_model)\n",
        "# print(embed_sbert.shape, embed_sbert)"
      ],
      "execution_count": null,
      "outputs": []
    },
    {
      "cell_type": "code",
      "metadata": {
        "id": "3eYULjPm7pwH"
      },
      "source": [
        "# embed_roberta = preprocess_embeddings(df_trial_single, roberta_model)\n",
        "# print(embed_roberta.shape, embed_roberta)"
      ],
      "execution_count": null,
      "outputs": []
    },
    {
      "cell_type": "code",
      "metadata": {
        "id": "Tx4dYIS1NGVj"
      },
      "source": [
        "class CompLexDataset(Dataset):\n",
        "  # global dataset_type\n",
        "\n",
        "  def __init__ (self, d_type, df_type_single, model):\n",
        "    self.dataset_type = d_type\n",
        "    self.df_single = df_type_single\n",
        "    self.all_sentence_embeddings = preprocess_embeddings(df_type_single, model)\n",
        "\n",
        "  def __len__ (self):\n",
        "    return len(self.df_single)\n",
        "  # len(datasetobj) == datasetobj.__len__()\n",
        "  \n",
        "  # datasetobj[5] == datasetobj.__getitem__(5)\n",
        "  def __getitem__ (self, idx):\n",
        "    token = str(self.df_single.loc[idx, 'token'])\n",
        "    try:\n",
        "      complexity = self.df_single.loc[idx, 'complexity']\n",
        "    except:\n",
        "      complexity = float(\"NaN\")\n",
        "    handcrafted_features = handcrafted(token)\n",
        "    sentence_context = self.all_sentence_embeddings[idx]\n",
        "    token_w2v = (glove_w2v.get(token.lower(), [0]*300))\n",
        "\n",
        "    result = {\n",
        "        'in' : (torch.from_numpy(np.hstack((np.array(handcrafted_features), sentence_context, np.array(token_w2v))).ravel()).float()),\n",
        "        'out': torch.from_numpy(np.array([complexity])).float()\n",
        "    }\n",
        "\n",
        "    return result"
      ],
      "execution_count": null,
      "outputs": []
    },
    {
      "cell_type": "code",
      "metadata": {
        "id": "yH6mFZwO8Jw_"
      },
      "source": [
        "class CompLexDatasetMulti(Dataset):\n",
        "  # global dataset_type\n",
        "\n",
        "  def __init__ (self, d_type, df_type_multi, model):\n",
        "    self.dataset_type = d_type\n",
        "    self.df_multi = df_type_multi\n",
        "    self.all_sentence_embeddings = preprocess_embeddings(df_type_multi, model)\n",
        "\n",
        "  def __len__ (self):\n",
        "    return len(self.df_multi )\n",
        "  # len(datasetobj) == datasetobj.__len__()\n",
        "  \n",
        "  # datasetobj[5] == datasetobj.__getitem__(5)\n",
        "  def __getitem__ (self, idx):\n",
        "    token = str(self.df_multi.loc[idx, 'token'])\n",
        "    try:\n",
        "      complexity = self.df_multi.loc[idx, 'complexity']\n",
        "    except:\n",
        "      complexity = float(\"NaN\")\n",
        "    handcrafted_features = handcrafted_multi(token)\n",
        "    sentence_context = self.all_sentence_embeddings[idx]\n",
        "    first, second = token.split()\n",
        "    first_w2v = (glove_w2v.get(first.lower(), [0]*300))\n",
        "    second_w2v = (glove_w2v.get(second.lower(), [0]*300))\n",
        "    result = {\n",
        "        'in' : (torch.from_numpy(np.hstack((np.array(handcrafted_features), sentence_context, np.array(first_w2v),np.array(second_w2v))).ravel()).float()),\n",
        "        'out': torch.from_numpy(np.array([complexity])).float()\n",
        "    }\n",
        "\n",
        "    return result"
      ],
      "execution_count": null,
      "outputs": []
    },
    {
      "cell_type": "code",
      "metadata": {
        "id": "jQtwu0LgxCYu"
      },
      "source": [
        "def print_details(a):\n",
        "  pass\n",
        "  # print(\"Input: \", a[5]['in'], \"Input Length: \", len(a[5]['in']))\n",
        "  # print(\"Output: \", a[5]['out'])"
      ],
      "execution_count": null,
      "outputs": []
    },
    {
      "cell_type": "markdown",
      "metadata": {
        "id": "AWIk3j1XN0g2"
      },
      "source": [
        "#Single Dataset"
      ]
    },
    {
      "cell_type": "markdown",
      "metadata": {
        "id": "lOyoRaQbKINx"
      },
      "source": [
        "Train"
      ]
    },
    {
      "cell_type": "code",
      "metadata": {
        "colab": {
          "base_uri": "https://localhost:8080/"
        },
        "id": "uqWJ0zOt0uaN",
        "outputId": "292b6956-af65-4d03-f719-01d1a55e1db0"
      },
      "source": [
        "train_dataset_single = CompLexDataset(\"train\", df_train_single, sbert_model)\n",
        "print_details(train_dataset_single)"
      ],
      "execution_count": null,
      "outputs": [
        {
          "output_type": "stream",
          "text": [
            "All sentences Embedded in : 585.9065644741058\n"
          ],
          "name": "stdout"
        }
      ]
    },
    {
      "cell_type": "markdown",
      "metadata": {
        "id": "-BIsjeERKLla"
      },
      "source": [
        "Trial"
      ]
    },
    {
      "cell_type": "code",
      "metadata": {
        "colab": {
          "base_uri": "https://localhost:8080/"
        },
        "id": "r1rmULZDKMdy",
        "outputId": "d46f497a-16e6-4d0b-ecfb-119a33e770ee"
      },
      "source": [
        "trial_dataset_single = CompLexDataset(\"trial\", df_trial_single, sbert_model)\n",
        "print_details(trial_dataset_single)"
      ],
      "execution_count": null,
      "outputs": [
        {
          "output_type": "stream",
          "text": [
            "All sentences Embedded in : 35.28865838050842\n"
          ],
          "name": "stdout"
        }
      ]
    },
    {
      "cell_type": "markdown",
      "metadata": {
        "id": "CdBBBcSCKOw5"
      },
      "source": [
        "Test"
      ]
    },
    {
      "cell_type": "code",
      "metadata": {
        "colab": {
          "base_uri": "https://localhost:8080/"
        },
        "id": "iDvYy1dZKOAP",
        "outputId": "0601526c-092b-4530-8355-1b0348875084"
      },
      "source": [
        "test_dataset_single = CompLexDataset(\"test\", df_test_single, sbert_model)\n",
        "print_details(test_dataset_single)"
      ],
      "execution_count": null,
      "outputs": [
        {
          "output_type": "stream",
          "text": [
            "All sentences Embedded in : 72.02329659461975\n"
          ],
          "name": "stdout"
        }
      ]
    },
    {
      "cell_type": "markdown",
      "metadata": {
        "id": "7RA9EF7hN3K0"
      },
      "source": [
        "#Multi Dataset"
      ]
    },
    {
      "cell_type": "code",
      "metadata": {
        "colab": {
          "base_uri": "https://localhost:8080/"
        },
        "id": "75PrsOoyN7sg",
        "outputId": "05c5aa28-359c-47d9-d6fc-fa10407b76a3"
      },
      "source": [
        "train_dataset_multi = CompLexDatasetMulti(\"train\", df_train_multi, sbert_model)\n",
        "print_details(train_dataset_multi)"
      ],
      "execution_count": null,
      "outputs": [
        {
          "output_type": "stream",
          "text": [
            "All sentences Embedded in : 119.7036304473877\n"
          ],
          "name": "stdout"
        }
      ]
    },
    {
      "cell_type": "code",
      "metadata": {
        "colab": {
          "base_uri": "https://localhost:8080/"
        },
        "id": "6_vdAVXEN7si",
        "outputId": "55c864f4-b8c8-4e8e-c8a7-1ff17bf624ee"
      },
      "source": [
        "trial_dataset_multi = CompLexDatasetMulti(\"trial\", df_trial_multi, sbert_model)\n",
        "print_details(trial_dataset_multi)"
      ],
      "execution_count": null,
      "outputs": [
        {
          "output_type": "stream",
          "text": [
            "All sentences Embedded in : 9.501445055007935\n"
          ],
          "name": "stdout"
        }
      ]
    },
    {
      "cell_type": "code",
      "metadata": {
        "colab": {
          "base_uri": "https://localhost:8080/"
        },
        "id": "92-J3mTuN7sk",
        "outputId": "fda26d25-da32-4676-905e-be0b35286b7f"
      },
      "source": [
        "test_dataset_multi = CompLexDatasetMulti(\"test\", df_test_multi, sbert_model)\n",
        "print_details(test_dataset_multi)"
      ],
      "execution_count": null,
      "outputs": [
        {
          "output_type": "stream",
          "text": [
            "All sentences Embedded in : 15.824579238891602\n"
          ],
          "name": "stdout"
        }
      ]
    },
    {
      "cell_type": "markdown",
      "metadata": {
        "id": "YkFrZbHSwHtK"
      },
      "source": [
        "# Neural Network"
      ]
    },
    {
      "cell_type": "code",
      "metadata": {
        "id": "dLVo8cSbv9Ar"
      },
      "source": [
        "import torch.nn as nn\n",
        "import torch.nn.functional as F"
      ],
      "execution_count": null,
      "outputs": []
    },
    {
      "cell_type": "code",
      "metadata": {
        "id": "uE8N1o7qwQdL"
      },
      "source": [
        "dim_hidden = 1600\n",
        "class Network_base(nn.Module):\n",
        "  \n",
        "  def __init__ (self, inp_layer):\n",
        "    super().__init__()\n",
        "\n",
        "    self.fc1 = nn.Linear(inp_layer, dim_hidden)\n",
        "    self.fc2 = nn.Linear(dim_hidden, dim_hidden)\n",
        "    self.fc3 = nn.Linear(dim_hidden,1)\n",
        "\n",
        "    self.sigmoid = nn.Sigmoid()\n",
        "\n",
        "  def forward(self, x):\n",
        "    return self.sigmoid(self.fc3(self.fc2(self.fc1(x))))"
      ],
      "execution_count": null,
      "outputs": []
    },
    {
      "cell_type": "code",
      "metadata": {
        "id": "ljR0PBYPXcrE"
      },
      "source": [
        "# dim_hidden = 800\n",
        "# class Network_base_sodhi(nn.Module):\n",
        "  \n",
        "#   def __init__ (self, inp_layer):\n",
        "#     super().__init__()\n",
        "\n",
        "#     self.fc1 = nn.Linear(inp_layer, dim_hidden)\n",
        "#     self.fc2 = nn.Linear(dim_hidden, dim_hidden)\n",
        "#     self.fc3 = nn.Linear(dim_hidden, dim_hidden)\n",
        "#     self.fc4 = nn.Linear(dim_hidden, dim_hidden)\n",
        "#     self.fc5 = nn.Linear(dim_hidden,1)\n",
        "\n",
        "#     self.sigmoid = nn.Sigmoid()\n",
        "\n",
        "#   def forward(self, x):\n",
        "#     return self.sigmoid(self.fc5(self.fc4(self.fc3(self.fc2(self.fc1(x))))))"
      ],
      "execution_count": null,
      "outputs": []
    },
    {
      "cell_type": "code",
      "metadata": {
        "id": "HgyCjuhYy9-y"
      },
      "source": [
        "network_single = Network_base(len(train_dataset_single[0]['in']))"
      ],
      "execution_count": null,
      "outputs": []
    },
    {
      "cell_type": "code",
      "metadata": {
        "id": "BSVaZ8S2XxDD"
      },
      "source": [
        "network_multi  = Network_base(len(train_dataset_multi[0]['in']))"
      ],
      "execution_count": null,
      "outputs": []
    },
    {
      "cell_type": "markdown",
      "metadata": {
        "id": "e_q2xB4cyarG"
      },
      "source": [
        "TRAIN"
      ]
    },
    {
      "cell_type": "code",
      "metadata": {
        "colab": {
          "base_uri": "https://localhost:8080/"
        },
        "id": "ug8vHs8NUwc0",
        "outputId": "17908a58-9ec4-4d2d-be9d-abfe09a58f62"
      },
      "source": [
        "!pip install wandb -q\n",
        "import wandb\n",
        "wandb.login()"
      ],
      "execution_count": null,
      "outputs": [
        {
          "output_type": "stream",
          "text": [
            "\u001b[K     |████████████████████████████████| 2.1MB 5.0MB/s \n",
            "\u001b[K     |████████████████████████████████| 133kB 34.9MB/s \n",
            "\u001b[K     |████████████████████████████████| 102kB 8.9MB/s \n",
            "\u001b[K     |████████████████████████████████| 163kB 25.4MB/s \n",
            "\u001b[K     |████████████████████████████████| 71kB 6.2MB/s \n",
            "\u001b[?25h  Building wheel for pathtools (setup.py) ... \u001b[?25l\u001b[?25hdone\n",
            "  Building wheel for subprocess32 (setup.py) ... \u001b[?25l\u001b[?25hdone\n"
          ],
          "name": "stdout"
        },
        {
          "output_type": "stream",
          "text": [
            "\u001b[34m\u001b[1mwandb\u001b[0m: Currently logged in as: \u001b[33mnlpsangh\u001b[0m (use `wandb login --relogin` to force relogin)\n"
          ],
          "name": "stderr"
        },
        {
          "output_type": "execute_result",
          "data": {
            "text/plain": [
              "True"
            ]
          },
          "metadata": {
            "tags": []
          },
          "execution_count": 59
        }
      ]
    },
    {
      "cell_type": "code",
      "metadata": {
        "id": "945PlT3eyVoZ"
      },
      "source": [
        "from torch.optim import Adam\n",
        "from torch.optim import AdamW\n",
        "from torch.utils.data import DataLoader"
      ],
      "execution_count": null,
      "outputs": []
    },
    {
      "cell_type": "markdown",
      "metadata": {
        "id": "XL0CnIGezK0i"
      },
      "source": [
        "# Single"
      ]
    },
    {
      "cell_type": "code",
      "metadata": {
        "id": "Lhio3T1DDpq-"
      },
      "source": [
        "network_in_use = network_single"
      ],
      "execution_count": null,
      "outputs": []
    },
    {
      "cell_type": "code",
      "metadata": {
        "colab": {
          "base_uri": "https://localhost:8080/",
          "height": 153
        },
        "id": "2FDuPyKUVZ7C",
        "outputId": "c5380167-33ff-456f-e972-07231a1c45b0"
      },
      "source": [
        "wandb.init()\n",
        "config = wandb.config\n",
        "config.learning_rate = 1e-6\n",
        "config.batch_size=64\n",
        "config.num_steps=500\n",
        "config.display_step=5\n",
        "wandb.watch(network_in_use)"
      ],
      "execution_count": null,
      "outputs": [
        {
          "output_type": "display_data",
          "data": {
            "text/html": [
              "\n",
              "                Tracking run with wandb version 0.10.25<br/>\n",
              "                Syncing run <strong style=\"color:#cdcd00\">peachy-tree-11</strong> to <a href=\"https://wandb.ai\" target=\"_blank\">Weights & Biases</a> <a href=\"https://docs.wandb.com/integrations/jupyter.html\" target=\"_blank\">(Documentation)</a>.<br/>\n",
              "                Project page: <a href=\"https://wandb.ai/nlpsangh/uncategorized\" target=\"_blank\">https://wandb.ai/nlpsangh/uncategorized</a><br/>\n",
              "                Run page: <a href=\"https://wandb.ai/nlpsangh/uncategorized/runs/2g23fgfe\" target=\"_blank\">https://wandb.ai/nlpsangh/uncategorized/runs/2g23fgfe</a><br/>\n",
              "                Run data is saved locally in <code>/content/drive/My Drive/Data/wandb/run-20210412_161544-2g23fgfe</code><br/><br/>\n",
              "            "
            ],
            "text/plain": [
              "<IPython.core.display.HTML object>"
            ]
          },
          "metadata": {
            "tags": []
          }
        },
        {
          "output_type": "execute_result",
          "data": {
            "text/plain": [
              "[<wandb.wandb_torch.TorchGraph at 0x7f11393609d0>]"
            ]
          },
          "metadata": {
            "tags": []
          },
          "execution_count": 62
        }
      ]
    },
    {
      "cell_type": "code",
      "metadata": {
        "id": "ZAVGZtN-yoD_"
      },
      "source": [
        "#HYPER-PARAMS\n",
        "criterion = nn.MSELoss()\n",
        "optm = AdamW(network_in_use.parameters(), config.learning_rate)"
      ],
      "execution_count": null,
      "outputs": []
    },
    {
      "cell_type": "code",
      "metadata": {
        "id": "RRMUy0Q1xVvC"
      },
      "source": [
        "def trainpass(net, x, y, optimizer, criterion):\n",
        "  net.zero_grad()\n",
        "  output = net(x)\n",
        "  loss = criterion(output,y)\n",
        "  loss.backward()\n",
        "  optimizer.step()\n",
        "\n",
        "  return loss, output"
      ],
      "execution_count": null,
      "outputs": []
    },
    {
      "cell_type": "code",
      "metadata": {
        "id": "1d6fAPaTaRTs"
      },
      "source": [
        "data_train = DataLoader(dataset = train_dataset_single, batch_size = config.batch_size, shuffle= True)"
      ],
      "execution_count": null,
      "outputs": []
    },
    {
      "cell_type": "code",
      "metadata": {
        "id": "K2ybfBfw2x09"
      },
      "source": [
        "def save_state(network, optm, epoch, filename):\n",
        "  state_dict = {'model_state_dict': network.state_dict(),\n",
        "                  'optimizer_state_dict': optm.state_dict(),\n",
        "                  'epochs': epoch}\n",
        "  torch.save(state_dict,filename)"
      ],
      "execution_count": null,
      "outputs": []
    },
    {
      "cell_type": "code",
      "metadata": {
        "id": "5hpzajSuXmz_"
      },
      "source": [
        "for step in range(1, config.num_steps + 1):\n",
        "  epoch_loss=0  \n",
        "  for idx, batch in enumerate(data_train):\n",
        "      x_train = batch['in']\n",
        "      y_train = batch['out']\n",
        "      loss, pred =  trainpass(network_in_use, x_train, y_train, optm, criterion)\n",
        "      epoch_loss += loss\n",
        "\n",
        "  if step % config.display_step == 0 or step == 1:\n",
        "    wandb.log({\"loss\":epoch_loss})\n",
        "\n",
        "  # try:\n",
        "  #   if(epoch_loss < best_loss):\n",
        "  #     best_loss = epoch_loss\n",
        "  #     save_state(network2, optm, epoch, '2803_sbert_network_'+str(int(time.time()%100000))+'.pt')\n",
        "  #     save_state(network2, optm, epoch, '2803_sbert_network_best.pt')\n",
        "  # except:\n",
        "  #   best_loss= epoch_loss"
      ],
      "execution_count": null,
      "outputs": []
    },
    {
      "cell_type": "markdown",
      "metadata": {
        "id": "nqRklupqD1to"
      },
      "source": [
        "using Sbert"
      ]
    },
    {
      "cell_type": "code",
      "metadata": {
        "id": "lrAZHp2NDmDD"
      },
      "source": [
        "state_dict = {'model_state_dict': network_in_use.state_dict(),\n",
        "                  'optimizer_state_dict': optm.state_dict(),\n",
        "              }\n",
        "torch.save(state_dict,\"sbert_network-evalution-single.pt\")"
      ],
      "execution_count": null,
      "outputs": []
    },
    {
      "cell_type": "code",
      "metadata": {
        "id": "K5OmPw8LFxOa"
      },
      "source": [
        "# def load_best_state(network, optm,filename):\n",
        "#   state_dict = torch.load(filename)\n",
        "#   network.load_state_dict(state_dict['model_state_dict'])\n",
        "#   optm.load_state_dict(state_dict['optimizer_state_dict'])"
      ],
      "execution_count": null,
      "outputs": []
    },
    {
      "cell_type": "code",
      "metadata": {
        "id": "nZWiEDibCOUX"
      },
      "source": [
        "# load_best_state(network_in_use, optm,\"sbert_network-evalution-single.pt\")"
      ],
      "execution_count": null,
      "outputs": []
    },
    {
      "cell_type": "markdown",
      "metadata": {
        "id": "siPZ4Fz9_CWY"
      },
      "source": [
        "Validating"
      ]
    },
    {
      "cell_type": "code",
      "metadata": {
        "id": "Hi1V5KN469Wc"
      },
      "source": [
        "from sklearn.metrics import mean_absolute_error as mae\n",
        "from scipy.stats import pearsonr as pnr\n",
        "import csv"
      ],
      "execution_count": null,
      "outputs": []
    },
    {
      "cell_type": "markdown",
      "metadata": {
        "id": "YGhjI3Wl_Are"
      },
      "source": [
        "Train"
      ]
    },
    {
      "cell_type": "code",
      "metadata": {
        "id": "J7HYALZD-gQ2"
      },
      "source": [
        "def test_train(dataset, df,network, flag=False, filename='', test=False):\n",
        "  y_true = [dataset[i]['out'].item() for i in range(len(dataset))]\n",
        "  y_pred = []\n",
        "\n",
        "  test_loader = DataLoader(dataset=dataset, batch_size=config.batch_size, shuffle=False)\n",
        "\n",
        "  for id, batch in enumerate(test_loader):\n",
        "    x_train = batch['in']\n",
        "    y_pred.append(network(x_train))\n",
        "\n",
        "  y_pred = [x.item() for i in range(len(y_pred)) for x in y_pred[i]]\n",
        "  print(y_pred)\n",
        "  if test==False:\n",
        "    val_mae = mae(y_true, y_pred)\n",
        "    val_pearsonr = pnr(y_true, y_pred)\n",
        "    print(\"MAE: \",val_mae, \"\\tPearsonr: \", val_pearsonr)\n",
        "  \n",
        "  if flag==True:\n",
        "    with open(filename, 'w', newline='') as f:\n",
        "      f_writer = csv.writer(f, delimiter=',')\n",
        "      for id in range(len(df)):\n",
        "        f_writer.writerow((df.loc[id, 'id'], str(y_pred[id])))"
      ],
      "execution_count": null,
      "outputs": []
    },
    {
      "cell_type": "code",
      "metadata": {
        "id": "PAAjV4c5EQWH",
        "colab": {
          "base_uri": "https://localhost:8080/"
        },
        "outputId": "5421a67b-c12c-40a9-d312-c3065a04d530"
      },
      "source": [
        "test_train(train_dataset_single, df_train_single, network_in_use)"
      ],
      "execution_count": null,
      "outputs": [
        {
          "output_type": "stream",
          "text": [
            "[0.22415991127490997, 0.17541684210300446, 0.2125495970249176, 0.22355882823467255, 0.21435058116912842, 0.1975022554397583, 0.21471944451332092, 0.178202822804451, 0.15063026547431946, 0.1618044674396515, 0.2224280834197998, 0.2183844894170761, 0.2771015763282776, 0.25990769267082214, 0.26133134961128235, 0.2798393666744232, 0.3284761309623718, 0.19012141227722168, 0.33196502923965454, 0.30116644501686096, 0.3095912039279938, 0.28149986267089844, 0.18960216641426086, 0.25684061646461487, 0.20215730369091034, 0.2643532454967499, 0.22487279772758484, 0.31317251920700073, 0.18874207139015198, 0.2534319758415222, 0.2331533581018448, 0.21823380887508392, 0.23648998141288757, 0.3614262640476227, 0.3429392874240875, 0.35531970858573914, 0.2882936894893646, 0.3004584014415741, 0.31260260939598083, 0.23570814728736877, 0.22453653812408447, 0.2385241538286209, 0.24619458615779877, 0.3162193298339844, 0.23620855808258057, 0.23134823143482208, 0.21139004826545715, 0.20464280247688293, 0.23144526779651642, 0.24317091703414917, 0.27623608708381653, 0.26434001326560974, 0.3154749870300293, 0.33770570158958435, 0.2663367688655853, 0.3230184316635132, 0.28042590618133545, 0.25189533829689026, 0.2416962832212448, 0.31887611746788025, 0.18412446975708008, 0.26490318775177, 0.34779515862464905, 0.3444088399410248, 0.24060246348381042, 0.2857334315776825, 0.29637500643730164, 0.35788455605506897, 0.2963324785232544, 0.2916403114795685, 0.31962335109710693, 0.27367985248565674, 0.27798035740852356, 0.3153410851955414, 0.29959040880203247, 0.3033560514450073, 0.3610740900039673, 0.25787168741226196, 0.2723136246204376, 0.19647152721881866, 0.3578646183013916, 0.18132516741752625, 0.21121971309185028, 0.19823382794857025, 0.17025840282440186, 0.29570430517196655, 0.20913206040859222, 0.16579964756965637, 0.26625895500183105, 0.3347136676311493, 0.299322247505188, 0.2522057592868805, 0.2851208448410034, 0.27249759435653687, 0.3131651282310486, 0.3074016273021698, 0.2652972340583801, 0.2860552966594696, 0.16573123633861542, 0.25840839743614197, 0.3133658170700073, 0.36566397547721863, 0.14988185465335846, 0.31740057468414307, 0.3424161374568939, 0.31288695335388184, 0.12714937329292297, 0.37170660495758057, 0.3476671874523163, 0.2943017780780792, 0.33147406578063965, 0.3432238698005676, 0.42780014872550964, 0.2335473597049713, 0.20332130789756775, 0.2278474122285843, 0.18178968131542206, 0.3184920847415924, 0.27700158953666687, 0.2804032564163208, 0.32056960463523865, 0.3051920533180237, 0.17764747142791748, 0.23893994092941284, 0.3524351119995117, 0.34968531131744385, 0.3538339138031006, 0.3501250445842743, 0.27056485414505005, 0.34040236473083496, 0.2230370193719864, 0.33288151025772095, 0.3390664756298065, 0.3614357113838196, 0.32742488384246826, 0.31722283363342285, 0.24191634356975555, 0.2978326976299286, 0.3430330753326416, 0.26614925265312195, 0.3599852919578552, 0.33009302616119385, 0.3427208662033081, 0.2898612320423126, 0.30215558409690857, 0.3317776322364807, 0.18353036046028137, 0.33111292123794556, 0.25917935371398926, 0.2593807280063629, 0.32409411668777466, 0.32758235931396484, 0.34403377771377563, 0.3479211926460266, 0.36106398701667786, 0.3475150465965271, 0.3629312515258789, 0.23769336938858032, 0.2773404121398926, 0.26525115966796875, 0.3301887512207031, 0.27113842964172363, 0.26141682267189026, 0.2566525936126709, 0.3577198088169098, 0.3390089273452759, 0.31456539034843445, 0.33432337641716003, 0.21519441902637482, 0.3310774266719818, 0.24147768318653107, 0.27451738715171814, 0.3431647717952728, 0.35604631900787354, 0.3753490447998047, 0.4107638895511627, 0.24735090136528015, 0.22810356318950653, 0.31292641162872314, 0.3367118537425995, 0.317704975605011, 0.35184651613235474, 0.3262568712234497, 0.3131905198097229, 0.3556734323501587, 0.46099844574928284, 0.4771300256252289, 0.2651323974132538, 0.29390186071395874, 0.4230257272720337, 0.36545369029045105, 0.2555118799209595, 0.20916122198104858, 0.30669596791267395, 0.31695377826690674, 0.23087181150913239, 0.27033624053001404, 0.2459590882062912, 0.29702308773994446, 0.33274295926094055, 0.35164782404899597, 0.39333298802375793, 0.39272189140319824, 0.5027309656143188, 0.30035752058029175, 0.3620554208755493, 0.24309073388576508, 0.38438960909843445, 0.24751000106334686, 0.27957677841186523, 0.4031398296356201, 0.4263803958892822, 0.27423861622810364, 0.29344597458839417, 0.34175723791122437, 0.39437755942344666, 0.4335716962814331, 0.38472482562065125, 0.33451661467552185, 0.4933643043041229, 0.5040790438652039, 0.3169132173061371, 0.3579483926296234, 0.39245888590812683, 0.40922826528549194, 0.34428808093070984, 0.42297565937042236, 0.5015888810157776, 0.44404253363609314, 0.31734344363212585, 0.374467134475708, 0.28024783730506897, 0.34998664259910583, 0.45428407192230225, 0.4671590030193329, 0.44816699624061584, 0.464192271232605, 0.46745577454566956, 0.37058746814727783, 0.40941888093948364, 0.354536235332489, 0.3177785277366638, 0.27008816599845886, 0.34514400362968445, 0.37619510293006897, 0.3532508611679077, 0.4603322148323059, 0.48194342851638794, 0.47827965021133423, 0.5253903865814209, 0.4910464882850647, 0.4053652286529541, 0.38813701272010803, 0.311820387840271, 0.38804298639297485, 0.3420642912387848, 0.3793339431285858, 0.4827352464199066, 0.4354289174079895, 0.3652437925338745, 0.3200511634349823, 0.29542598128318787, 0.397348016500473, 0.38017284870147705, 0.4974425137042999, 0.36425086855888367, 0.45266643166542053, 0.5192949175834656, 0.4935004711151123, 0.48946765065193176, 0.5016885995864868, 0.28437161445617676, 0.35422223806381226, 0.31960034370422363, 0.33900269865989685, 0.4420410692691803, 0.46138638257980347, 0.4090145230293274, 0.42599886655807495, 0.42026466131210327, 0.342430979013443, 0.3881411850452423, 0.42279431223869324, 0.40077513456344604, 0.4443577229976654, 0.4642702341079712, 0.2957058250904083, 0.41055911779403687, 0.3001454174518585, 0.403211772441864, 0.42572084069252014, 0.34468480944633484, 0.4782014489173889, 0.45758822560310364, 0.5240261554718018, 0.4757423996925354, 0.48771849274635315, 0.3415130376815796, 0.3205927610397339, 0.2807677090167999, 0.410604864358902, 0.3407400846481323, 0.49066150188446045, 0.4161287546157837, 0.2658670246601105, 0.3854551613330841, 0.41633155941963196, 0.5157676339149475, 0.4711526036262512, 0.5161064863204956, 0.5340539216995239, 0.5523319840431213, 0.345138281583786, 0.39641937613487244, 0.41207441687583923, 0.3963298499584198, 0.506195604801178, 0.5402476787567139, 0.34967416524887085, 0.42188170552253723, 0.40821027755737305, 0.3584378659725189, 0.3081088960170746, 0.4835074245929718, 0.2537160813808441, 0.35838890075683594, 0.3411581814289093, 0.5069552659988403, 0.3627297580242157, 0.4344748258590698, 0.4600137174129486, 0.3854841887950897, 0.4073467552661896, 0.40928295254707336, 0.42697373032569885, 0.37441274523735046, 0.42113667726516724, 0.47672703862190247, 0.3671225905418396, 0.42621949315071106, 0.3397105932235718, 0.5075464248657227, 0.3741005063056946, 0.33586061000823975, 0.46051540970802307, 0.3509122133255005, 0.4783257842063904, 0.4620426595211029, 0.45661264657974243, 0.5027320981025696, 0.5036004185676575, 0.5200916528701782, 0.46881163120269775, 0.48564544320106506, 0.3791799247264862, 0.43619897961616516, 0.408235639333725, 0.38293159008026123, 0.42774826288223267, 0.478608101606369, 0.4084624946117401, 0.5323654413223267, 0.44967272877693176, 0.4776005148887634, 0.4439960718154907, 0.3807554543018341, 0.45757195353507996, 0.40461665391921997, 0.5055568218231201, 0.42263174057006836, 0.4864295423030853, 0.42143309116363525, 0.5264813899993896, 0.3588939607143402, 0.37035810947418213, 0.42981788516044617, 0.35588857531547546, 0.4763348400592804, 0.5449281334877014, 0.5112303495407104, 0.37482932209968567, 0.3985356390476227, 0.41794201731681824, 0.39114049077033997, 0.47565022110939026, 0.5147171020507812, 0.4170490503311157, 0.5865299701690674, 0.4025803506374359, 0.4527645707130432, 0.4302748441696167, 0.5699788928031921, 0.43877682089805603, 0.4968738555908203, 0.4489903450012207, 0.32181569933891296, 0.4677152633666992, 0.41745591163635254, 0.40744876861572266, 0.4911453425884247, 0.42662933468818665, 0.4704446792602539, 0.49044933915138245, 0.4918287694454193, 0.501679003238678, 0.41797783970832825, 0.3876658082008362, 0.4484187066555023, 0.5764288902282715, 0.4555549919605255, 0.4189712405204773, 0.5414093136787415, 0.5125467777252197, 0.44309765100479126, 0.3932809829711914, 0.4343670606613159, 0.40921199321746826, 0.4319683611392975, 0.5532675385475159, 0.5607869625091553, 0.32580000162124634, 0.476298987865448, 0.43703609704971313, 0.4769114851951599, 0.4550603926181793, 0.3909863829612732, 0.38176852464675903, 0.5376470685005188, 0.5385509729385376, 0.4306199252605438, 0.46359607577323914, 0.4644618332386017, 0.4604593515396118, 0.4992256164550781, 0.4386449456214905, 0.43076035380363464, 0.4460722506046295, 0.5746378898620605, 0.4647599756717682, 0.4197063446044922, 0.6112130284309387, 0.44875386357307434, 0.5414318442344666, 0.5809504389762878, 0.5756906867027283, 0.5570396780967712, 0.5228397846221924, 0.39035889506340027, 0.5931116342544556, 0.6105303764343262, 0.28930073976516724, 0.5292851328849792, 0.5607276558876038, 0.5609517693519592, 0.44202443957328796, 0.4551517963409424, 0.4919183552265167, 0.39092135429382324, 0.5175051093101501, 0.45147380232810974, 0.4226880669593811, 0.564251184463501, 0.5248830318450928, 0.517020046710968, 0.5022357702255249, 0.47542908787727356, 0.4466801583766937, 0.4388303756713867, 0.44577911496162415, 0.3416708707809448, 0.596769392490387, 0.3917311429977417, 0.4218015968799591, 0.47580814361572266, 0.5091897249221802, 0.6158773899078369, 0.5426259636878967, 0.42355871200561523, 0.4361118972301483, 0.5532194972038269, 0.5662055611610413, 0.5495058298110962, 0.6429311037063599, 0.5207496285438538, 0.5264506340026855, 0.5431827306747437, 0.5242267847061157, 0.5331469774246216, 0.5033160448074341, 0.5772178769111633, 0.6377837061882019, 0.49440091848373413, 0.6160598397254944, 0.5635145902633667, 0.5902838110923767, 0.5307378768920898, 0.47976112365722656, 0.590939998626709, 0.5060111284255981, 0.5677593946456909, 0.5687366724014282, 0.5376757383346558, 0.5319932699203491, 0.5193283557891846, 0.5670938491821289, 0.24962054193019867, 0.30398184061050415, 0.25224027037620544, 0.26468315720558167, 0.30236274003982544, 0.2644983232021332, 0.23975463211536407, 0.2919713854789734, 0.2783210277557373, 0.24067257344722748, 0.2629167139530182, 0.26073387265205383, 0.30414777994155884, 0.3759569823741913, 0.21783579885959625, 0.274996817111969, 0.2857544720172882, 0.3399870991706848, 0.25620555877685547, 0.3206818103790283, 0.2871554493904114, 0.2834436297416687, 0.26287928223609924, 0.2618780732154846, 0.3911029100418091, 0.2657737135887146, 0.26006409525871277, 0.33564916253089905, 0.2686273455619812, 0.3463904559612274, 0.3017590045928955, 0.3684031367301941, 0.24079255759716034, 0.39966556429862976, 0.2822403907775879, 0.35523706674575806, 0.2548707127571106, 0.33393439650535583, 0.3527427017688751, 0.3005262017250061, 0.2877912223339081, 0.33481892943382263, 0.3010829985141754, 0.2560420632362366, 0.3206166923046112, 0.327333003282547, 0.23066434264183044, 0.35466310381889343, 0.36015376448631287, 0.24823789298534393, 0.2947564125061035, 0.3417317867279053, 0.27802106738090515, 0.348905086517334, 0.3160462975502014, 0.2858293056488037, 0.32090330123901367, 0.2632756233215332, 0.3997642397880554, 0.3409522473812103, 0.2845850884914398, 0.2629257142543793, 0.4056773781776428, 0.29533788561820984, 0.26696786284446716, 0.29682573676109314, 0.28049910068511963, 0.3251347839832306, 0.270064115524292, 0.3610117733478546, 0.33813416957855225, 0.24257653951644897, 0.3144012987613678, 0.298255980014801, 0.2623597979545593, 0.30736052989959717, 0.4975607693195343, 0.33195066452026367, 0.43278342485427856, 0.504818856716156, 0.5116548538208008, 0.4592125415802002, 0.47628262639045715, 0.39992550015449524, 0.39894983172416687, 0.2930125594139099, 0.3817947804927826, 0.3482958674430847, 0.3334294259548187, 0.2919718623161316, 0.36272168159484863, 0.25414130091667175, 0.46827009320259094, 0.31735339760780334, 0.34181535243988037, 0.34462982416152954, 0.3238215744495392, 0.29275402426719666, 0.3096312880516052, 0.3098945617675781, 0.30188584327697754, 0.35097819566726685, 0.36639469861984253, 0.34405696392059326, 0.3550668954849243, 0.2590479552745819, 0.39175254106521606, 0.3173041343688965, 0.40339845418930054, 0.2835242450237274, 0.30103808641433716, 0.35872021317481995, 0.3236856162548065, 0.3795211911201477, 0.3390229046344757, 0.3434913456439972, 0.340959757566452, 0.30896803736686707, 0.3752578794956207, 0.36984214186668396, 0.357150137424469, 0.3310810625553131, 0.4166349172592163, 0.2686234712600708, 0.32369789481163025, 0.3728160858154297, 0.35096457600593567, 0.31014660000801086, 0.4098955988883972, 0.4058946967124939, 0.34395352005958557, 0.4547833502292633, 0.40201494097709656, 0.41823625564575195, 0.4273979067802429, 0.2619060277938843, 0.34262943267822266, 0.35180428624153137, 0.423021525144577, 0.319123774766922, 0.34313949942588806, 0.4306434094905853, 0.42208701372146606, 0.517674446105957, 0.3898007869720459, 0.40400928258895874, 0.448921263217926, 0.37000206112861633, 0.4436224102973938, 0.493653804063797, 0.3387327492237091, 0.31562960147857666, 0.4653107821941376, 0.46086299419403076, 0.48505279421806335, 0.5051491856575012, 0.4344148337841034, 0.3829506039619446, 0.3507019579410553, 0.3421233594417572, 0.36250221729278564, 0.34191709756851196, 0.32766732573509216, 0.4216463565826416, 0.34061282873153687, 0.38076597452163696, 0.5417725443840027, 0.3883851170539856, 0.46101588010787964, 0.3858868479728699, 0.29253581166267395, 0.4643526077270508, 0.43981078267097473, 0.43464556336402893, 0.359693706035614, 0.34913456439971924, 0.49604329466819763, 0.3063034117221832, 0.4184108078479767, 0.5437111258506775, 0.4548151195049286, 0.37072864174842834, 0.43223363161087036, 0.30488914251327515, 0.371918261051178, 0.5115238428115845, 0.44953104853630066, 0.43768996000289917, 0.4549880921840668, 0.4457481801509857, 0.42865294218063354, 0.4666251540184021, 0.3714653551578522, 0.44719159603118896, 0.4793471693992615, 0.40844669938087463, 0.38767415285110474, 0.44387033581733704, 0.33367636799812317, 0.44543272256851196, 0.3845381736755371, 0.5101617574691772, 0.4513534605503082, 0.6125361323356628, 0.6136583685874939, 0.6108928918838501, 0.5308607220649719, 0.551213800907135, 0.4138663709163666, 0.47598332166671753, 0.5825403332710266, 0.6070130467414856, 0.46475929021835327, 0.4919542968273163, 0.34874188899993896, 0.5257954597473145, 0.5224321484565735, 0.4363350570201874, 0.4353405237197876, 0.47109946608543396, 0.5923486948013306, 0.5876833200454712, 0.510417103767395, 0.57353675365448, 0.4801289737224579, 0.4528055191040039, 0.4894747734069824, 0.5195316672325134, 0.496532678604126, 0.48872682452201843, 0.5547588467597961, 0.5733799338340759, 0.5213932394981384, 0.5436707735061646, 0.4966829717159271, 0.6142346858978271, 0.4923398792743683, 0.39983877539634705, 0.3802450895309448, 0.5951159596443176, 0.4871358573436737, 0.5594450831413269, 0.594271719455719, 0.4037838578224182, 0.5299271941184998, 0.3983025848865509, 0.47644850611686707, 0.5192264914512634, 0.3208739459514618, 0.4618590772151947, 0.41793736815452576, 0.618311882019043, 0.4300221800804138, 0.5691503286361694, 0.40787407755851746, 0.4009874761104584, 0.4737200438976288, 0.4975391626358032, 0.7470241785049438, 0.7251661419868469, 0.5332585573196411, 0.6497641205787659, 0.4910026788711548, 0.5264642834663391, 0.5316566228866577, 0.6004207730293274, 0.6000798940658569, 0.6222838759422302, 0.6148189306259155, 0.49125388264656067, 0.5880991220474243, 0.6610677242279053, 0.6083450317382812, 0.6179160475730896, 0.6313936114311218, 0.4509076774120331, 0.5478389859199524, 0.3748627305030823, 0.5194988250732422, 0.4425908327102661, 0.4989526867866516, 0.499341756105423, 0.5295670032501221, 0.6217207312583923, 0.6254065632820129, 0.6245952248573303, 0.5162853598594666, 0.5321677327156067, 0.5157967209815979, 0.507125735282898, 0.49849599599838257, 0.4541360139846802, 0.5812557935714722, 0.6297656297683716, 0.46845120191574097, 0.4361531138420105, 0.5841976404190063, 0.6009582281112671, 0.513883650302887, 0.5678912401199341, 0.5359259247779846, 0.6178082227706909, 0.5342906713485718, 0.6002762913703918, 0.6009461283683777, 0.6090599298477173, 0.62326979637146, 0.6277835965156555, 0.3616392910480499, 0.5974118113517761, 0.6061212420463562, 0.5933055877685547, 0.5690064430236816, 0.41924744844436646, 0.5340879559516907, 0.549532949924469, 0.5629092454910278, 0.4642046093940735, 0.501731276512146, 0.6279174089431763, 0.5717843174934387, 0.5652108788490295, 0.5445003509521484, 0.5654259920120239, 0.6118667125701904, 0.5836018323898315, 0.657609224319458, 0.6386814117431641, 0.6853755712509155, 0.6633808016777039, 0.6607804894447327, 0.6319304704666138, 0.6992611289024353, 0.6125628352165222, 0.5982031226158142, 0.6493326425552368, 0.43690019845962524, 0.6974389553070068, 0.6401578783988953, 0.6529671549797058, 0.6398259997367859, 0.6751955151557922, 0.6743283271789551, 0.5213709473609924, 0.597974419593811, 0.5984072685241699, 0.621444582939148, 0.5908140540122986, 0.4836268424987793, 0.6054728031158447, 0.6193270683288574, 0.6569755673408508, 0.49964186549186707, 0.7044343948364258, 0.49544140696525574, 0.5920904278755188, 0.5632215142250061, 0.5942004919052124, 0.45862019062042236, 0.5212149620056152, 0.4021662771701813, 0.57284015417099, 0.6082045435905457, 0.6264360547065735, 0.46933260560035706, 0.6218374371528625, 0.5527873039245605, 0.5372758507728577, 0.5325559973716736, 0.5571871399879456, 0.6365545988082886, 0.5551615953445435, 0.4839920997619629, 0.5672367215156555, 0.5405507683753967, 0.6092066168785095, 0.5298981666564941, 0.5389963388442993, 0.5393529534339905, 0.677067220211029, 0.47816699743270874, 0.6380505561828613, 0.5829403400421143, 0.613637387752533, 0.5799088478088379, 0.6403553485870361, 0.6035112738609314, 0.6487143039703369, 0.6567310094833374, 0.6491317749023438, 0.6986631751060486, 0.6803959012031555, 0.6989523768424988, 0.7272455096244812, 0.6661655902862549, 0.6105257868766785, 0.5685806274414062, 0.5001395344734192, 0.5506525635719299, 0.5560621619224548, 0.5774240493774414, 0.585587739944458, 0.5502548813819885, 0.6425197124481201, 0.726952314376831, 0.7124930024147034, 0.7444536089897156, 0.635927677154541, 0.5301951766014099, 0.660747230052948, 0.5032353401184082, 0.5018466711044312, 0.5136351585388184, 0.6288427114486694, 0.6028486490249634, 0.6150270700454712, 0.6189323663711548, 0.6187208294868469, 0.4267633855342865, 0.536959707736969, 0.6623857021331787, 0.6687417030334473, 0.661745548248291, 0.49728894233703613, 0.42064353823661804, 0.6205251216888428, 0.6270304918289185, 0.657893717288971, 0.6934646964073181, 0.6707974672317505, 0.5680475831031799, 0.5424178242683411, 0.6580381393432617, 0.660110354423523, 0.6138270497322083, 0.6093588471412659, 0.6131545305252075, 0.622948944568634, 0.5691477656364441, 0.6635984778404236, 0.633840024471283, 0.6308917999267578, 0.6071681380271912, 0.5822221636772156, 0.48990878462791443, 0.633398711681366, 0.6182379126548767, 0.7103962898254395, 0.6579104065895081, 0.5792287588119507, 0.7237792015075684, 0.5698629021644592, 0.5818452835083008, 0.6671428680419922, 0.511788547039032, 0.6804516911506653, 0.6026906967163086, 0.641566812992096, 0.7448900938034058, 0.568235456943512, 0.7105981111526489, 0.5163813829421997, 0.7666386961936951, 0.6765096187591553, 0.6787237524986267, 0.6220163106918335, 0.5768059492111206, 0.6941331028938293, 0.6892278790473938, 0.6028984189033508, 0.7165178656578064, 0.7176544666290283, 0.6579916477203369, 0.7167488932609558, 0.6282925009727478, 0.5620414018630981, 0.6058334112167358, 0.4946688413619995, 0.616906464099884, 0.6296160817146301, 0.7100923657417297, 0.6263834834098816, 0.7277194857597351, 0.5659652948379517, 0.6044485569000244, 0.7086144685745239, 0.5003371238708496, 0.6208252310752869, 0.6232661604881287, 0.5694094300270081, 0.6195202469825745, 0.7000830173492432, 0.6408659219741821, 0.6794694066047668, 0.5453453063964844, 0.6671462655067444, 0.708249568939209, 0.7306547164916992, 0.6722056269645691, 0.7210947871208191, 0.7391619086265564, 0.6051154732704163, 0.6226035356521606, 0.7167096734046936, 0.7081166505813599, 0.6735445261001587, 0.7155148386955261, 0.7134100794792175, 0.7080498933792114, 0.6785332560539246, 0.6215944290161133, 0.7007995247840881, 0.741769015789032, 0.7632042169570923, 0.1226901188492775, 0.2499086558818817, 0.29143673181533813, 0.22678104043006897, 0.299449622631073, 0.3229816257953644, 0.33454933762550354, 0.3596484959125519, 0.3032524287700653, 0.32951152324676514, 0.29621002078056335, 0.29326850175857544, 0.2784852385520935, 0.3588743805885315, 0.22524894773960114, 0.32033005356788635, 0.31898611783981323, 0.23353560268878937, 0.183555468916893, 0.2248472422361374, 0.2480141669511795, 0.26875725388526917, 0.28592950105667114, 0.2312791645526886, 0.19700327515602112, 0.3552563488483429, 0.19343025982379913, 0.19474585354328156, 0.2620309591293335, 0.26338550448417664, 0.3064593970775604, 0.2904908061027527, 0.3036963939666748, 0.32311156392097473, 0.32109639048576355, 0.28289562463760376, 0.2835090160369873, 0.250037282705307, 0.2388514131307602, 0.29500332474708557, 0.2149169147014618, 0.3421372175216675, 0.3703572452068329, 0.23096448183059692, 0.20515809953212738, 0.20601247251033783, 0.2872498631477356, 0.30436864495277405, 0.3027842342853546, 0.2347295731306076, 0.3637692630290985, 0.28497761487960815, 0.2006983906030655, 0.2400062382221222, 0.31397125124931335, 0.3416232466697693, 0.27239173650741577, 0.2887342870235443, 0.3286631107330322, 0.3093629479408264, 0.4119414687156677, 0.22640138864517212, 0.17853239178657532, 0.30228424072265625, 0.26561957597732544, 0.2891533374786377, 0.33289414644241333, 0.32531166076660156, 0.302669882774353, 0.26069146394729614, 0.25310900807380676, 0.23389649391174316, 0.3158164322376251, 0.26578015089035034, 0.17839963734149933, 0.23507188260555267, 0.2938167154788971, 0.3202279508113861, 0.257239431142807, 0.20421317219734192, 0.2999768853187561, 0.2836914360523224, 0.23928126692771912, 0.30549177527427673, 0.30377405881881714, 0.2669232189655304, 0.2718377411365509, 0.2847289443016052, 0.21155261993408203, 0.27266111969947815, 0.2716987729072571, 0.3621772527694702, 0.3660221993923187, 0.44644272327423096, 0.2096506655216217, 0.3213176131248474, 0.2265070527791977, 0.2757401466369629, 0.37393686175346375, 0.33665746450424194, 0.29692837595939636, 0.21177706122398376, 0.3299129903316498, 0.3051528036594391, 0.2992183268070221, 0.2638368606567383, 0.3810643255710602, 0.29782551527023315, 0.23630301654338837, 0.3583420515060425, 0.29845431447029114, 0.30902403593063354, 0.2659668028354645, 0.28830239176750183, 0.31458011269569397, 0.369698166847229, 0.22853702306747437, 0.34886181354522705, 0.39309757947921753, 0.32208529114723206, 0.30346745252609253, 0.43195974826812744, 0.27116987109184265, 0.27834492921829224, 0.30806347727775574, 0.3206668794155121, 0.26883506774902344, 0.3258175253868103, 0.3412080705165863, 0.30699071288108826, 0.30787187814712524, 0.37520167231559753, 0.36640942096710205, 0.377023309469223, 0.37287095189094543, 0.38129761815071106, 0.36252567172050476, 0.3852066099643707, 0.27943629026412964, 0.32508140802383423, 0.3063637912273407, 0.32964780926704407, 0.3042071461677551, 0.2611222565174103, 0.3708089590072632, 0.28927507996559143, 0.3255425691604614, 0.3055137097835541, 0.32611507177352905, 0.2750531733036041, 0.307723730802536, 0.26276275515556335, 0.4161838889122009, 0.4101734459400177, 0.43871936202049255, 0.3193906545639038, 0.28229430317878723, 0.2942107915878296, 0.2893918454647064, 0.32423457503318787, 0.41291260719299316, 0.3759998381137848, 0.2539677023887634, 0.34005075693130493, 0.23897676169872284, 0.3276855945587158, 0.2726839482784271, 0.27185994386672974, 0.24382224678993225, 0.28209733963012695, 0.32980018854141235, 0.31588149070739746, 0.39920130372047424, 0.418632835149765, 0.3732403814792633, 0.26387202739715576, 0.3661012351512909, 0.36023908853530884, 0.25628402829170227, 0.25591158866882324, 0.431223601102829, 0.2870679497718811, 0.3312509059906006, 0.2721627950668335, 0.3871675431728363, 0.4195557236671448, 0.4060056507587433, 0.3574475646018982, 0.28895485401153564, 0.3404068350791931, 0.3425292670726776, 0.2914421260356903, 0.3325764536857605, 0.28689253330230713, 0.37747466564178467, 0.26002952456474304, 0.3440927267074585, 0.24307236075401306, 0.25154563784599304, 0.2925478518009186, 0.4167519211769104, 0.3318466544151306, 0.3213774859905243, 0.3309595286846161, 0.27940264344215393, 0.3433162569999695, 0.2649793028831482, 0.2850724160671234, 0.410290390253067, 0.3569432497024536, 0.30920684337615967, 0.3279423415660858, 0.4004502594470978, 0.384416788816452, 0.41110020875930786, 0.30105528235435486, 0.3493971526622772, 0.3253609240055084, 0.3264172375202179, 0.3940261900424957, 0.4000304937362671, 0.3476075232028961, 0.36031100153923035, 0.316924124956131, 0.30223703384399414, 0.2975291907787323, 0.30959874391555786, 0.24013178050518036, 0.30600762367248535, 0.31757763028144836, 0.3182221055030823, 0.42471569776535034, 0.3474634289741516, 0.3984929025173187, 0.39743709564208984, 0.3507550060749054, 0.3402040898799896, 0.39369258284568787, 0.3601028025150299, 0.3856307864189148, 0.47224387526512146, 0.554680347442627, 0.2852341830730438, 0.4766164720058441, 0.41988298296928406, 0.29381483793258667, 0.467467337846756, 0.4051341414451599, 0.383566677570343, 0.35216274857521057, 0.3798469305038452, 0.2528165280818939, 0.27892693877220154, 0.42626306414604187, 0.30085375905036926, 0.32681941986083984, 0.3830479681491852, 0.47276464104652405, 0.4724101722240448, 0.3972146511077881, 0.31080162525177, 0.29756295680999756, 0.3124294877052307, 0.3964992165565491, 0.3338940143585205, 0.39593619108200073, 0.3177037239074707, 0.4109134078025818, 0.3988410234451294, 0.39021748304367065, 0.44131001830101013, 0.4272238314151764, 0.4572173058986664, 0.5338196754455566, 0.394940048456192, 0.40825045108795166, 0.2845059037208557, 0.5484747290611267, 0.38722723722457886, 0.3621372878551483, 0.39699578285217285, 0.3979361951351166, 0.3325422704219818, 0.41274282336235046, 0.498953640460968, 0.41515323519706726, 0.4104147255420685, 0.45352455973625183, 0.4505288302898407, 0.37207314372062683, 0.44787612557411194, 0.3934348225593567, 0.35612645745277405, 0.3448430895805359, 0.3385569751262665, 0.3382495045661926, 0.3801606297492981, 0.35166415572166443, 0.38771605491638184, 0.3685542643070221, 0.42874085903167725, 0.4064088463783264, 0.3998092710971832, 0.4148925542831421, 0.4039556682109833, 0.33898088335990906, 0.35274478793144226, 0.4019416272640228, 0.34880000352859497, 0.4960305690765381, 0.4016886055469513, 0.3885478377342224, 0.39631620049476624, 0.2999763488769531, 0.43268609046936035, 0.4507088363170624, 0.5332601070404053, 0.4111606478691101, 0.5303288102149963, 0.512344241142273, 0.38191747665405273, 0.40480613708496094, 0.4076673090457916, 0.4699133336544037, 0.42928630113601685, 0.33750119805336, 0.5102461576461792, 0.4304670989513397, 0.37199243903160095, 0.43113359808921814, 0.47342199087142944, 0.42185667157173157, 0.29770204424858093, 0.4839911460876465, 0.4083792567253113, 0.45073172450065613, 0.3956829309463501, 0.28422024846076965, 0.3951238691806793, 0.39880046248435974, 0.37714651226997375, 0.5072796940803528, 0.4424898624420166, 0.5164263248443604, 0.40817055106163025, 0.4069726765155792, 0.27785924077033997, 0.42135146260261536, 0.3522379398345947, 0.487678587436676, 0.38635921478271484, 0.47238078713417053, 0.4442918002605438, 0.4106259346008301, 0.4084762930870056, 0.3493780195713043, 0.5058923959732056, 0.42403730750083923, 0.4784279465675354, 0.45220786333084106, 0.40336325764656067, 0.34586742520332336, 0.3392646014690399, 0.45565369725227356, 0.5328291058540344, 0.55132657289505, 0.36962905526161194, 0.5324425101280212, 0.6125652194023132, 0.5459465384483337, 0.6179771423339844, 0.4226072132587433, 0.4610064923763275, 0.36664673686027527, 0.4747706651687622, 0.4865151047706604, 0.48668015003204346, 0.4675631821155548, 0.5495635271072388, 0.4013769328594208, 0.537872850894928, 0.4822312891483307, 0.43365389108657837, 0.3908193111419678, 0.481657475233078, 0.47702980041503906, 0.4360758364200592, 0.4092656373977661, 0.4947478473186493, 0.494782030582428, 0.5176895260810852, 0.44465261697769165, 0.4855315387248993, 0.4603893458843231, 0.5242314338684082, 0.49158143997192383, 0.43906521797180176, 0.5153865218162537, 0.4100688695907593, 0.4505442678928375, 0.45385247468948364, 0.5127661824226379, 0.33904939889907837, 0.42452487349510193, 0.4928186237812042, 0.4871651530265808, 0.39307525753974915, 0.44090715050697327, 0.47363176941871643, 0.4647713601589203, 0.45943108201026917, 0.43829450011253357, 0.4369414448738098, 0.4401964843273163, 0.5114957690238953, 0.4970833659172058, 0.4499993920326233, 0.4732174277305603, 0.3955015242099762, 0.5186272859573364, 0.5318692326545715, 0.43799591064453125, 0.4483304023742676, 0.40372198820114136, 0.4934190809726715, 0.3773154616355896, 0.45593342185020447, 0.548556923866272, 0.5490298867225647, 0.4656456410884857, 0.32433146238327026, 0.44213923811912537, 0.5076143741607666, 0.3460403084754944, 0.5240730047225952, 0.5841516852378845, 0.5743614435195923, 0.5732714533805847, 0.6109583973884583, 0.5984305739402771, 0.5119410157203674, 0.30708396434783936, 0.4789550304412842, 0.5083465576171875, 0.4886394441127777, 0.4624811112880707, 0.6506897211074829, 0.600201427936554, 0.5911301970481873, 0.45020121335983276, 0.48295512795448303, 0.5182201862335205, 0.45161277055740356, 0.4288097620010376, 0.5568108558654785, 0.4260856807231903, 0.4388188123703003, 0.476909875869751, 0.5482675433158875, 0.4896312952041626, 0.5460165739059448, 0.4904364347457886, 0.49827808141708374, 0.5207299590110779, 0.5165262222290039, 0.45733532309532166, 0.4900508522987366, 0.5037868022918701, 0.5539877414703369, 0.5354341268539429, 0.5746000409126282, 0.5765902996063232, 0.515087366104126, 0.5128155946731567, 0.47401878237724304, 0.49361535906791687, 0.5345268845558167, 0.5600543022155762, 0.5396223068237305, 0.44021862745285034, 0.6471147537231445, 0.5693718791007996, 0.5778067708015442, 0.5542270541191101, 0.491143137216568, 0.5712007284164429, 0.4961491525173187, 0.42722705006599426, 0.6313558220863342, 0.506722629070282, 0.5786145925521851, 0.4887268841266632, 0.5952715873718262, 0.57523113489151, 0.5287067890167236, 0.5661647319793701, 0.5093477964401245, 0.6025761961936951]\n",
            "MAE:  0.06160157111742894 \tPearsonr:  (0.8655002638887942, 0.0)\n"
          ],
          "name": "stdout"
        }
      ]
    },
    {
      "cell_type": "code",
      "metadata": {
        "id": "Vk3cH7IgcnCm",
        "colab": {
          "base_uri": "https://localhost:8080/"
        },
        "outputId": "012968fd-adaa-4882-fb90-22403fba9e62"
      },
      "source": [
        "test_train(trial_dataset_single, df_trial_single, network_in_use, True, 'trial-result-evaluation-single.csv')"
      ],
      "execution_count": null,
      "outputs": [
        {
          "output_type": "stream",
          "text": [
            "[0.2931492328643799, 0.3160709738731384, 0.37945669889450073, 0.36522045731544495, 0.3316907286643982, 0.3525654375553131, 0.3631291687488556, 0.3752806782722473, 0.38426443934440613, 0.2858268618583679, 0.3318265974521637, 0.27454060316085815, 0.26327642798423767, 0.3229014575481415, 0.48698946833610535, 0.5461401343345642, 0.26267513632774353, 0.45259982347488403, 0.31384873390197754, 0.37336307764053345, 0.41976940631866455, 0.5159792900085449, 0.46393242478370667, 0.4303332269191742, 0.4802076816558838, 0.31900322437286377, 0.4161975383758545, 0.5421962738037109, 0.4049365818500519, 0.3053271472454071, 0.3246041238307953, 0.3200388550758362, 0.27476266026496887, 0.27594366669654846, 0.3339114785194397, 0.3124227523803711, 0.37575021386146545, 0.3052084445953369, 0.5288273096084595, 0.48134085536003113, 0.5247827172279358, 0.5364285111427307, 0.46789032220840454, 0.5218992233276367, 0.6726301312446594, 0.6055821180343628, 0.4048183858394623, 0.592890739440918, 0.6517005562782288, 0.6850031018257141, 0.6784517168998718, 0.6869003772735596, 0.681631863117218, 0.6464599370956421, 0.4539914131164551, 0.6414848566055298, 0.5389832854270935, 0.4391886293888092, 0.607529878616333, 0.5644270181655884, 0.5777391791343689, 0.6797770857810974, 0.2959144711494446, 0.4476482570171356, 0.29867932200431824, 0.29609307646751404, 0.38183271884918213, 0.46496450901031494, 0.504882276058197, 0.4331222176551819, 0.42067062854766846, 0.44201359152793884, 0.4546935260295868, 0.4097038805484772, 0.45111995935440063, 0.46309414505958557, 0.44512441754341125, 0.445307195186615, 0.3837224245071411, 0.3348456025123596, 0.3970664143562317, 0.3056218922138214, 0.2845788300037384, 0.4101862907409668, 0.3988257944583893, 0.44212111830711365, 0.31279027462005615, 0.274232417345047, 0.4946569502353668, 0.5950163006782532, 0.5399861335754395, 0.5876829028129578, 0.5617212653160095, 0.5551727414131165, 0.4301764667034149, 0.5219800472259521, 0.5482271909713745, 0.3870846629142761, 0.5574950575828552]\n",
            "MAE:  0.08928437312745084 \tPearsonr:  (0.717651933076746, 6.381181564159845e-17)\n"
          ],
          "name": "stdout"
        }
      ]
    },
    {
      "cell_type": "code",
      "metadata": {
        "id": "07UqKyy1cnCp",
        "colab": {
          "base_uri": "https://localhost:8080/"
        },
        "outputId": "e88c048b-8d32-432f-e16a-607bae665370"
      },
      "source": [
        "test_train(test_dataset_single,df_test_single, network_in_use, True, 'test-result-evaluation-single.csv', True)"
      ],
      "execution_count": null,
      "outputs": [
        {
          "output_type": "stream",
          "text": [
            "[0.2992874085903168, 0.3472228944301605, 0.3519381582736969, 0.3060207664966583, 0.49332043528556824, 0.291726291179657, 0.39221397042274475, 0.3044189214706421, 0.3645820915699005, 0.2178807407617569, 0.5249123573303223, 0.4272586405277252, 0.46233898401260376, 0.261376291513443, 0.5991198420524597, 0.509066641330719, 0.4740954637527466, 0.26640793681144714, 0.43963709473609924, 0.4569171071052551, 0.5153912901878357, 0.4854099452495575, 0.2835313379764557, 0.4391140341758728, 0.41370850801467896, 0.5049676895141602, 0.2780631482601166, 0.3048694133758545, 0.29248663783073425, 0.4535919427871704, 0.22636422514915466, 0.5581715106964111, 0.5425606369972229, 0.4655139446258545, 0.5397340655326843, 0.38635048270225525, 0.4962138235569, 0.5354791283607483, 0.27469050884246826, 0.253020316362381, 0.5565029978752136, 0.542026937007904, 0.47623002529144287, 0.3044593334197998, 0.28551986813545227, 0.30164116621017456, 0.13225075602531433, 0.2820371091365814, 0.29598015546798706, 0.4100893437862396, 0.34555110335350037, 0.47535285353660583, 0.2703756093978882, 0.309805303812027, 0.19032803177833557, 0.5332769751548767, 0.3888130784034729, 0.2653080224990845, 0.29998478293418884, 0.3610129952430725, 0.5086106657981873, 0.32464367151260376, 0.24401411414146423, 0.21918033063411713, 0.24702195823192596, 0.28950226306915283, 0.37368759512901306, 0.2777601480484009, 0.47111955285072327, 0.36162349581718445, 0.38323017954826355, 0.3604567050933838, 0.25382721424102783, 0.6093519926071167, 0.554063081741333, 0.5863600969314575, 0.33574753999710083, 0.6117584705352783, 0.6492217183113098, 0.3921073377132416, 0.6332117319107056, 0.6370317935943604, 0.4045397639274597, 0.7211875915527344, 0.4862549602985382, 0.5255932211875916, 0.6017504930496216, 0.45748844742774963, 0.6230930089950562, 0.23965319991111755, 0.3948041498661041, 0.6153387427330017, 0.5929116010665894, 0.4654659032821655, 0.6452832818031311, 0.4267015755176544, 0.3433495759963989, 0.6873649954795837, 0.3474559485912323, 0.36526018381118774, 0.5891091823577881, 0.6435980200767517, 0.41712942719459534, 0.5842044353485107, 0.4393322467803955, 0.3783600330352783, 0.28884679079055786, 0.4321819245815277, 0.6273099184036255, 0.4153793752193451, 0.7201833724975586, 0.3584553599357605, 0.6204482316970825, 0.3747864067554474, 0.6415587067604065, 0.6835918426513672, 0.6071092486381531, 0.2654048204421997, 0.46408411860466003, 0.5723347663879395, 0.2927228808403015, 0.6007694602012634, 0.4343087673187256, 0.39726290106773376, 0.5068798661231995, 0.44602999091148376, 0.4005240499973297, 0.5739831924438477, 0.4206082820892334, 0.4121769368648529, 0.24685712158679962, 0.5310298800468445, 0.35703709721565247, 0.4351511001586914, 0.36111027002334595, 0.48728519678115845, 0.253940612077713, 0.4480303227901459, 0.4613294005393982, 0.3833119869232178, 0.4369812607765198, 0.433182954788208, 0.5609902143478394, 0.5211318135261536, 0.3533290922641754, 0.3830789625644684, 0.5578830242156982, 0.44814789295196533, 0.2882915139198303, 0.43336570262908936, 0.5233793258666992, 0.3559969961643219, 0.3227803409099579, 0.3892796039581299, 0.5909885168075562, 0.46696314215660095, 0.39838916063308716, 0.489237904548645, 0.35588836669921875, 0.26153719425201416, 0.4418944716453552, 0.354656457901001, 0.6251055598258972, 0.40499982237815857, 0.3802955448627472, 0.5035805106163025, 0.3971113860607147, 0.23117998242378235, 0.5266222357749939, 0.37870779633522034, 0.3846226632595062, 0.6239398717880249, 0.5095804929733276, 0.32253149151802063, 0.4138791263103485, 0.4430500268936157, 0.576482355594635, 0.4634574055671692, 0.35763615369796753, 0.2780800461769104, 0.42721012234687805, 0.4887438118457794, 0.36788544058799744, 0.45195531845092773]\n"
          ],
          "name": "stdout"
        }
      ]
    },
    {
      "cell_type": "markdown",
      "metadata": {
        "id": "cL384pXk1gju"
      },
      "source": [
        "# Multi"
      ]
    },
    {
      "cell_type": "code",
      "metadata": {
        "id": "W_IKAYoZ1gj8"
      },
      "source": [
        "network_in_use = network_multi"
      ],
      "execution_count": null,
      "outputs": []
    },
    {
      "cell_type": "code",
      "metadata": {
        "id": "t1J2rhCb1gj8"
      },
      "source": [
        "wandb.init()\n",
        "config = wandb.config\n",
        "config.learning_rate = 4e-7\n",
        "config.batch_size=32\n",
        "config.num_steps=350\n",
        "config.display_step=5\n",
        "wandb.watch(network_in_use)"
      ],
      "execution_count": null,
      "outputs": []
    },
    {
      "cell_type": "code",
      "metadata": {
        "id": "61NDlMpt1gj9"
      },
      "source": [
        "#HYPER-PARAMS\n",
        "criterion = nn.MSELoss()\n",
        "optm = AdamW(network_in_use.parameters(), config.learning_rate)"
      ],
      "execution_count": null,
      "outputs": []
    },
    {
      "cell_type": "code",
      "metadata": {
        "id": "Wjmpf7_71gj9"
      },
      "source": [
        "def trainpass(net, x, y, optimizer, criterion):\n",
        "  net.zero_grad()\n",
        "  output = net(x)\n",
        "  loss = criterion(output,y)\n",
        "  loss.backward()\n",
        "  optimizer.step()\n",
        "\n",
        "  return loss, output"
      ],
      "execution_count": null,
      "outputs": []
    },
    {
      "cell_type": "code",
      "metadata": {
        "id": "NP1RaOgb1gj9"
      },
      "source": [
        "data_train = DataLoader(dataset = train_dataset_single, batch_size = config.batch_size, shuffle= True)"
      ],
      "execution_count": null,
      "outputs": []
    },
    {
      "cell_type": "code",
      "metadata": {
        "id": "qV7zfZ1p1gj-"
      },
      "source": [
        "def save_state(network, optm, epoch, filename):\n",
        "  state_dict = {'model_state_dict': network.state_dict(),\n",
        "                  'optimizer_state_dict': optm.state_dict(),\n",
        "                  'epochs': epoch}\n",
        "  torch.save(state_dict,filename)"
      ],
      "execution_count": null,
      "outputs": []
    },
    {
      "cell_type": "code",
      "metadata": {
        "id": "OBTEUzIP1gj-"
      },
      "source": [
        "for step in range(1, config.num_steps + 1):\n",
        "  epoch_loss=0  \n",
        "  for idx, batch in enumerate(data_train):\n",
        "      x_train = batch['in']\n",
        "      y_train = batch['out']\n",
        "      loss, pred =  trainpass(network_in_use, x_train, y_train, optm, criterion)\n",
        "      epoch_loss += loss\n",
        "\n",
        "  if step % config.display_step == 0 or step == 1:\n",
        "    wandb.log({\"loss\":epoch_loss})\n",
        "\n",
        "  # try:\n",
        "  #   if(epoch_loss < best_loss):\n",
        "  #     best_loss = epoch_loss\n",
        "  #     save_state(network2, optm, epoch, '2803_sbert_network_'+str(int(time.time()%100000))+'.pt')\n",
        "  #     save_state(network2, optm, epoch, '2803_sbert_network_best.pt')\n",
        "  # except:\n",
        "  #   best_loss= epoch_loss"
      ],
      "execution_count": null,
      "outputs": []
    },
    {
      "cell_type": "markdown",
      "metadata": {
        "id": "iTlm_TE-1gj-"
      },
      "source": [
        "using Sbert"
      ]
    },
    {
      "cell_type": "code",
      "metadata": {
        "id": "u8anQrsu1gj_"
      },
      "source": [
        "state_dict = {'model_state_dict': network_in_use.state_dict(),\n",
        "                  'optimizer_state_dict': optm.state_dict(),\n",
        "              }\n",
        "torch.save(state_dict,\"sbert_network-evaluation-multi.pt\")"
      ],
      "execution_count": null,
      "outputs": []
    },
    {
      "cell_type": "code",
      "metadata": {
        "id": "oSy_U_bM1gj_"
      },
      "source": [
        "# def load_best_state(network, optm):\n",
        "#   state_dict = torch.load('sbert_network_25_best.pt')\n",
        "#   network.load_state_dict(state_dict['model_state_dict'])\n",
        "#   optm.load_state_dict(state_dict['optimizer_state_dict'])"
      ],
      "execution_count": null,
      "outputs": []
    },
    {
      "cell_type": "code",
      "metadata": {
        "id": "-yqZ7dcV1gj_"
      },
      "source": [
        "# load_best_state(network_in_use, optm)"
      ],
      "execution_count": null,
      "outputs": []
    },
    {
      "cell_type": "markdown",
      "metadata": {
        "id": "OcnTs33i1gj_"
      },
      "source": [
        "Validating"
      ]
    },
    {
      "cell_type": "code",
      "metadata": {
        "id": "8sQbMm6G1gkA"
      },
      "source": [
        "from sklearn.metrics import mean_absolute_error as mae\n",
        "from scipy.stats import pearsonr as pnr\n",
        "import csv"
      ],
      "execution_count": null,
      "outputs": []
    },
    {
      "cell_type": "markdown",
      "metadata": {
        "id": "uq9heTjn1gkA"
      },
      "source": [
        "Train"
      ]
    },
    {
      "cell_type": "code",
      "metadata": {
        "id": "-CEep5fy1gkA"
      },
      "source": [
        "def test_train(dataset, df,network, flag=False, filename='', test=False):\n",
        "  y_true = [dataset[i]['out'].item() for i in range(len(dataset))]\n",
        "  y_pred = []\n",
        "\n",
        "  test_loader = DataLoader(dataset=dataset, batch_size=config.batch_size, shuffle=False)\n",
        "\n",
        "  for id, batch in enumerate(test_loader):\n",
        "    x_train = batch['in']\n",
        "    y_pred.append(network(x_train))\n",
        "\n",
        "  y_pred = [x.item() for i in range(len(y_pred)) for x in y_pred[i]]\n",
        "  print(y_pred)\n",
        "  if test==False:\n",
        "    val_mae = mae(y_true, y_pred)\n",
        "    val_pearsonr = pnr(y_true, y_pred)\n",
        "    print(\"MAE: \",val_mae, \"\\tPearsonr: \", val_pearsonr)\n",
        "  \n",
        "  if flag==True:\n",
        "    with open(filename, 'w', newline='') as f:\n",
        "      f_writer = csv.writer(f, delimiter=',')\n",
        "      for id in range(len(df)):\n",
        "        f_writer.writerow((df.loc[id, 'id'], str(y_pred[id])))"
      ],
      "execution_count": null,
      "outputs": []
    },
    {
      "cell_type": "code",
      "metadata": {
        "colab": {
          "base_uri": "https://localhost:8080/"
        },
        "id": "w9HoH_RH1gkB",
        "outputId": "5421a67b-c12c-40a9-d312-c3065a04d530"
      },
      "source": [
        "test_train(train_dataset_single, df_train_single, network_in_use)"
      ],
      "execution_count": null,
      "outputs": [
        {
          "output_type": "stream",
          "text": [
            "[0.22415991127490997, 0.17541684210300446, 0.2125495970249176, 0.22355882823467255, 0.21435058116912842, 0.1975022554397583, 0.21471944451332092, 0.178202822804451, 0.15063026547431946, 0.1618044674396515, 0.2224280834197998, 0.2183844894170761, 0.2771015763282776, 0.25990769267082214, 0.26133134961128235, 0.2798393666744232, 0.3284761309623718, 0.19012141227722168, 0.33196502923965454, 0.30116644501686096, 0.3095912039279938, 0.28149986267089844, 0.18960216641426086, 0.25684061646461487, 0.20215730369091034, 0.2643532454967499, 0.22487279772758484, 0.31317251920700073, 0.18874207139015198, 0.2534319758415222, 0.2331533581018448, 0.21823380887508392, 0.23648998141288757, 0.3614262640476227, 0.3429392874240875, 0.35531970858573914, 0.2882936894893646, 0.3004584014415741, 0.31260260939598083, 0.23570814728736877, 0.22453653812408447, 0.2385241538286209, 0.24619458615779877, 0.3162193298339844, 0.23620855808258057, 0.23134823143482208, 0.21139004826545715, 0.20464280247688293, 0.23144526779651642, 0.24317091703414917, 0.27623608708381653, 0.26434001326560974, 0.3154749870300293, 0.33770570158958435, 0.2663367688655853, 0.3230184316635132, 0.28042590618133545, 0.25189533829689026, 0.2416962832212448, 0.31887611746788025, 0.18412446975708008, 0.26490318775177, 0.34779515862464905, 0.3444088399410248, 0.24060246348381042, 0.2857334315776825, 0.29637500643730164, 0.35788455605506897, 0.2963324785232544, 0.2916403114795685, 0.31962335109710693, 0.27367985248565674, 0.27798035740852356, 0.3153410851955414, 0.29959040880203247, 0.3033560514450073, 0.3610740900039673, 0.25787168741226196, 0.2723136246204376, 0.19647152721881866, 0.3578646183013916, 0.18132516741752625, 0.21121971309185028, 0.19823382794857025, 0.17025840282440186, 0.29570430517196655, 0.20913206040859222, 0.16579964756965637, 0.26625895500183105, 0.3347136676311493, 0.299322247505188, 0.2522057592868805, 0.2851208448410034, 0.27249759435653687, 0.3131651282310486, 0.3074016273021698, 0.2652972340583801, 0.2860552966594696, 0.16573123633861542, 0.25840839743614197, 0.3133658170700073, 0.36566397547721863, 0.14988185465335846, 0.31740057468414307, 0.3424161374568939, 0.31288695335388184, 0.12714937329292297, 0.37170660495758057, 0.3476671874523163, 0.2943017780780792, 0.33147406578063965, 0.3432238698005676, 0.42780014872550964, 0.2335473597049713, 0.20332130789756775, 0.2278474122285843, 0.18178968131542206, 0.3184920847415924, 0.27700158953666687, 0.2804032564163208, 0.32056960463523865, 0.3051920533180237, 0.17764747142791748, 0.23893994092941284, 0.3524351119995117, 0.34968531131744385, 0.3538339138031006, 0.3501250445842743, 0.27056485414505005, 0.34040236473083496, 0.2230370193719864, 0.33288151025772095, 0.3390664756298065, 0.3614357113838196, 0.32742488384246826, 0.31722283363342285, 0.24191634356975555, 0.2978326976299286, 0.3430330753326416, 0.26614925265312195, 0.3599852919578552, 0.33009302616119385, 0.3427208662033081, 0.2898612320423126, 0.30215558409690857, 0.3317776322364807, 0.18353036046028137, 0.33111292123794556, 0.25917935371398926, 0.2593807280063629, 0.32409411668777466, 0.32758235931396484, 0.34403377771377563, 0.3479211926460266, 0.36106398701667786, 0.3475150465965271, 0.3629312515258789, 0.23769336938858032, 0.2773404121398926, 0.26525115966796875, 0.3301887512207031, 0.27113842964172363, 0.26141682267189026, 0.2566525936126709, 0.3577198088169098, 0.3390089273452759, 0.31456539034843445, 0.33432337641716003, 0.21519441902637482, 0.3310774266719818, 0.24147768318653107, 0.27451738715171814, 0.3431647717952728, 0.35604631900787354, 0.3753490447998047, 0.4107638895511627, 0.24735090136528015, 0.22810356318950653, 0.31292641162872314, 0.3367118537425995, 0.317704975605011, 0.35184651613235474, 0.3262568712234497, 0.3131905198097229, 0.3556734323501587, 0.46099844574928284, 0.4771300256252289, 0.2651323974132538, 0.29390186071395874, 0.4230257272720337, 0.36545369029045105, 0.2555118799209595, 0.20916122198104858, 0.30669596791267395, 0.31695377826690674, 0.23087181150913239, 0.27033624053001404, 0.2459590882062912, 0.29702308773994446, 0.33274295926094055, 0.35164782404899597, 0.39333298802375793, 0.39272189140319824, 0.5027309656143188, 0.30035752058029175, 0.3620554208755493, 0.24309073388576508, 0.38438960909843445, 0.24751000106334686, 0.27957677841186523, 0.4031398296356201, 0.4263803958892822, 0.27423861622810364, 0.29344597458839417, 0.34175723791122437, 0.39437755942344666, 0.4335716962814331, 0.38472482562065125, 0.33451661467552185, 0.4933643043041229, 0.5040790438652039, 0.3169132173061371, 0.3579483926296234, 0.39245888590812683, 0.40922826528549194, 0.34428808093070984, 0.42297565937042236, 0.5015888810157776, 0.44404253363609314, 0.31734344363212585, 0.374467134475708, 0.28024783730506897, 0.34998664259910583, 0.45428407192230225, 0.4671590030193329, 0.44816699624061584, 0.464192271232605, 0.46745577454566956, 0.37058746814727783, 0.40941888093948364, 0.354536235332489, 0.3177785277366638, 0.27008816599845886, 0.34514400362968445, 0.37619510293006897, 0.3532508611679077, 0.4603322148323059, 0.48194342851638794, 0.47827965021133423, 0.5253903865814209, 0.4910464882850647, 0.4053652286529541, 0.38813701272010803, 0.311820387840271, 0.38804298639297485, 0.3420642912387848, 0.3793339431285858, 0.4827352464199066, 0.4354289174079895, 0.3652437925338745, 0.3200511634349823, 0.29542598128318787, 0.397348016500473, 0.38017284870147705, 0.4974425137042999, 0.36425086855888367, 0.45266643166542053, 0.5192949175834656, 0.4935004711151123, 0.48946765065193176, 0.5016885995864868, 0.28437161445617676, 0.35422223806381226, 0.31960034370422363, 0.33900269865989685, 0.4420410692691803, 0.46138638257980347, 0.4090145230293274, 0.42599886655807495, 0.42026466131210327, 0.342430979013443, 0.3881411850452423, 0.42279431223869324, 0.40077513456344604, 0.4443577229976654, 0.4642702341079712, 0.2957058250904083, 0.41055911779403687, 0.3001454174518585, 0.403211772441864, 0.42572084069252014, 0.34468480944633484, 0.4782014489173889, 0.45758822560310364, 0.5240261554718018, 0.4757423996925354, 0.48771849274635315, 0.3415130376815796, 0.3205927610397339, 0.2807677090167999, 0.410604864358902, 0.3407400846481323, 0.49066150188446045, 0.4161287546157837, 0.2658670246601105, 0.3854551613330841, 0.41633155941963196, 0.5157676339149475, 0.4711526036262512, 0.5161064863204956, 0.5340539216995239, 0.5523319840431213, 0.345138281583786, 0.39641937613487244, 0.41207441687583923, 0.3963298499584198, 0.506195604801178, 0.5402476787567139, 0.34967416524887085, 0.42188170552253723, 0.40821027755737305, 0.3584378659725189, 0.3081088960170746, 0.4835074245929718, 0.2537160813808441, 0.35838890075683594, 0.3411581814289093, 0.5069552659988403, 0.3627297580242157, 0.4344748258590698, 0.4600137174129486, 0.3854841887950897, 0.4073467552661896, 0.40928295254707336, 0.42697373032569885, 0.37441274523735046, 0.42113667726516724, 0.47672703862190247, 0.3671225905418396, 0.42621949315071106, 0.3397105932235718, 0.5075464248657227, 0.3741005063056946, 0.33586061000823975, 0.46051540970802307, 0.3509122133255005, 0.4783257842063904, 0.4620426595211029, 0.45661264657974243, 0.5027320981025696, 0.5036004185676575, 0.5200916528701782, 0.46881163120269775, 0.48564544320106506, 0.3791799247264862, 0.43619897961616516, 0.408235639333725, 0.38293159008026123, 0.42774826288223267, 0.478608101606369, 0.4084624946117401, 0.5323654413223267, 0.44967272877693176, 0.4776005148887634, 0.4439960718154907, 0.3807554543018341, 0.45757195353507996, 0.40461665391921997, 0.5055568218231201, 0.42263174057006836, 0.4864295423030853, 0.42143309116363525, 0.5264813899993896, 0.3588939607143402, 0.37035810947418213, 0.42981788516044617, 0.35588857531547546, 0.4763348400592804, 0.5449281334877014, 0.5112303495407104, 0.37482932209968567, 0.3985356390476227, 0.41794201731681824, 0.39114049077033997, 0.47565022110939026, 0.5147171020507812, 0.4170490503311157, 0.5865299701690674, 0.4025803506374359, 0.4527645707130432, 0.4302748441696167, 0.5699788928031921, 0.43877682089805603, 0.4968738555908203, 0.4489903450012207, 0.32181569933891296, 0.4677152633666992, 0.41745591163635254, 0.40744876861572266, 0.4911453425884247, 0.42662933468818665, 0.4704446792602539, 0.49044933915138245, 0.4918287694454193, 0.501679003238678, 0.41797783970832825, 0.3876658082008362, 0.4484187066555023, 0.5764288902282715, 0.4555549919605255, 0.4189712405204773, 0.5414093136787415, 0.5125467777252197, 0.44309765100479126, 0.3932809829711914, 0.4343670606613159, 0.40921199321746826, 0.4319683611392975, 0.5532675385475159, 0.5607869625091553, 0.32580000162124634, 0.476298987865448, 0.43703609704971313, 0.4769114851951599, 0.4550603926181793, 0.3909863829612732, 0.38176852464675903, 0.5376470685005188, 0.5385509729385376, 0.4306199252605438, 0.46359607577323914, 0.4644618332386017, 0.4604593515396118, 0.4992256164550781, 0.4386449456214905, 0.43076035380363464, 0.4460722506046295, 0.5746378898620605, 0.4647599756717682, 0.4197063446044922, 0.6112130284309387, 0.44875386357307434, 0.5414318442344666, 0.5809504389762878, 0.5756906867027283, 0.5570396780967712, 0.5228397846221924, 0.39035889506340027, 0.5931116342544556, 0.6105303764343262, 0.28930073976516724, 0.5292851328849792, 0.5607276558876038, 0.5609517693519592, 0.44202443957328796, 0.4551517963409424, 0.4919183552265167, 0.39092135429382324, 0.5175051093101501, 0.45147380232810974, 0.4226880669593811, 0.564251184463501, 0.5248830318450928, 0.517020046710968, 0.5022357702255249, 0.47542908787727356, 0.4466801583766937, 0.4388303756713867, 0.44577911496162415, 0.3416708707809448, 0.596769392490387, 0.3917311429977417, 0.4218015968799591, 0.47580814361572266, 0.5091897249221802, 0.6158773899078369, 0.5426259636878967, 0.42355871200561523, 0.4361118972301483, 0.5532194972038269, 0.5662055611610413, 0.5495058298110962, 0.6429311037063599, 0.5207496285438538, 0.5264506340026855, 0.5431827306747437, 0.5242267847061157, 0.5331469774246216, 0.5033160448074341, 0.5772178769111633, 0.6377837061882019, 0.49440091848373413, 0.6160598397254944, 0.5635145902633667, 0.5902838110923767, 0.5307378768920898, 0.47976112365722656, 0.590939998626709, 0.5060111284255981, 0.5677593946456909, 0.5687366724014282, 0.5376757383346558, 0.5319932699203491, 0.5193283557891846, 0.5670938491821289, 0.24962054193019867, 0.30398184061050415, 0.25224027037620544, 0.26468315720558167, 0.30236274003982544, 0.2644983232021332, 0.23975463211536407, 0.2919713854789734, 0.2783210277557373, 0.24067257344722748, 0.2629167139530182, 0.26073387265205383, 0.30414777994155884, 0.3759569823741913, 0.21783579885959625, 0.274996817111969, 0.2857544720172882, 0.3399870991706848, 0.25620555877685547, 0.3206818103790283, 0.2871554493904114, 0.2834436297416687, 0.26287928223609924, 0.2618780732154846, 0.3911029100418091, 0.2657737135887146, 0.26006409525871277, 0.33564916253089905, 0.2686273455619812, 0.3463904559612274, 0.3017590045928955, 0.3684031367301941, 0.24079255759716034, 0.39966556429862976, 0.2822403907775879, 0.35523706674575806, 0.2548707127571106, 0.33393439650535583, 0.3527427017688751, 0.3005262017250061, 0.2877912223339081, 0.33481892943382263, 0.3010829985141754, 0.2560420632362366, 0.3206166923046112, 0.327333003282547, 0.23066434264183044, 0.35466310381889343, 0.36015376448631287, 0.24823789298534393, 0.2947564125061035, 0.3417317867279053, 0.27802106738090515, 0.348905086517334, 0.3160462975502014, 0.2858293056488037, 0.32090330123901367, 0.2632756233215332, 0.3997642397880554, 0.3409522473812103, 0.2845850884914398, 0.2629257142543793, 0.4056773781776428, 0.29533788561820984, 0.26696786284446716, 0.29682573676109314, 0.28049910068511963, 0.3251347839832306, 0.270064115524292, 0.3610117733478546, 0.33813416957855225, 0.24257653951644897, 0.3144012987613678, 0.298255980014801, 0.2623597979545593, 0.30736052989959717, 0.4975607693195343, 0.33195066452026367, 0.43278342485427856, 0.504818856716156, 0.5116548538208008, 0.4592125415802002, 0.47628262639045715, 0.39992550015449524, 0.39894983172416687, 0.2930125594139099, 0.3817947804927826, 0.3482958674430847, 0.3334294259548187, 0.2919718623161316, 0.36272168159484863, 0.25414130091667175, 0.46827009320259094, 0.31735339760780334, 0.34181535243988037, 0.34462982416152954, 0.3238215744495392, 0.29275402426719666, 0.3096312880516052, 0.3098945617675781, 0.30188584327697754, 0.35097819566726685, 0.36639469861984253, 0.34405696392059326, 0.3550668954849243, 0.2590479552745819, 0.39175254106521606, 0.3173041343688965, 0.40339845418930054, 0.2835242450237274, 0.30103808641433716, 0.35872021317481995, 0.3236856162548065, 0.3795211911201477, 0.3390229046344757, 0.3434913456439972, 0.340959757566452, 0.30896803736686707, 0.3752578794956207, 0.36984214186668396, 0.357150137424469, 0.3310810625553131, 0.4166349172592163, 0.2686234712600708, 0.32369789481163025, 0.3728160858154297, 0.35096457600593567, 0.31014660000801086, 0.4098955988883972, 0.4058946967124939, 0.34395352005958557, 0.4547833502292633, 0.40201494097709656, 0.41823625564575195, 0.4273979067802429, 0.2619060277938843, 0.34262943267822266, 0.35180428624153137, 0.423021525144577, 0.319123774766922, 0.34313949942588806, 0.4306434094905853, 0.42208701372146606, 0.517674446105957, 0.3898007869720459, 0.40400928258895874, 0.448921263217926, 0.37000206112861633, 0.4436224102973938, 0.493653804063797, 0.3387327492237091, 0.31562960147857666, 0.4653107821941376, 0.46086299419403076, 0.48505279421806335, 0.5051491856575012, 0.4344148337841034, 0.3829506039619446, 0.3507019579410553, 0.3421233594417572, 0.36250221729278564, 0.34191709756851196, 0.32766732573509216, 0.4216463565826416, 0.34061282873153687, 0.38076597452163696, 0.5417725443840027, 0.3883851170539856, 0.46101588010787964, 0.3858868479728699, 0.29253581166267395, 0.4643526077270508, 0.43981078267097473, 0.43464556336402893, 0.359693706035614, 0.34913456439971924, 0.49604329466819763, 0.3063034117221832, 0.4184108078479767, 0.5437111258506775, 0.4548151195049286, 0.37072864174842834, 0.43223363161087036, 0.30488914251327515, 0.371918261051178, 0.5115238428115845, 0.44953104853630066, 0.43768996000289917, 0.4549880921840668, 0.4457481801509857, 0.42865294218063354, 0.4666251540184021, 0.3714653551578522, 0.44719159603118896, 0.4793471693992615, 0.40844669938087463, 0.38767415285110474, 0.44387033581733704, 0.33367636799812317, 0.44543272256851196, 0.3845381736755371, 0.5101617574691772, 0.4513534605503082, 0.6125361323356628, 0.6136583685874939, 0.6108928918838501, 0.5308607220649719, 0.551213800907135, 0.4138663709163666, 0.47598332166671753, 0.5825403332710266, 0.6070130467414856, 0.46475929021835327, 0.4919542968273163, 0.34874188899993896, 0.5257954597473145, 0.5224321484565735, 0.4363350570201874, 0.4353405237197876, 0.47109946608543396, 0.5923486948013306, 0.5876833200454712, 0.510417103767395, 0.57353675365448, 0.4801289737224579, 0.4528055191040039, 0.4894747734069824, 0.5195316672325134, 0.496532678604126, 0.48872682452201843, 0.5547588467597961, 0.5733799338340759, 0.5213932394981384, 0.5436707735061646, 0.4966829717159271, 0.6142346858978271, 0.4923398792743683, 0.39983877539634705, 0.3802450895309448, 0.5951159596443176, 0.4871358573436737, 0.5594450831413269, 0.594271719455719, 0.4037838578224182, 0.5299271941184998, 0.3983025848865509, 0.47644850611686707, 0.5192264914512634, 0.3208739459514618, 0.4618590772151947, 0.41793736815452576, 0.618311882019043, 0.4300221800804138, 0.5691503286361694, 0.40787407755851746, 0.4009874761104584, 0.4737200438976288, 0.4975391626358032, 0.7470241785049438, 0.7251661419868469, 0.5332585573196411, 0.6497641205787659, 0.4910026788711548, 0.5264642834663391, 0.5316566228866577, 0.6004207730293274, 0.6000798940658569, 0.6222838759422302, 0.6148189306259155, 0.49125388264656067, 0.5880991220474243, 0.6610677242279053, 0.6083450317382812, 0.6179160475730896, 0.6313936114311218, 0.4509076774120331, 0.5478389859199524, 0.3748627305030823, 0.5194988250732422, 0.4425908327102661, 0.4989526867866516, 0.499341756105423, 0.5295670032501221, 0.6217207312583923, 0.6254065632820129, 0.6245952248573303, 0.5162853598594666, 0.5321677327156067, 0.5157967209815979, 0.507125735282898, 0.49849599599838257, 0.4541360139846802, 0.5812557935714722, 0.6297656297683716, 0.46845120191574097, 0.4361531138420105, 0.5841976404190063, 0.6009582281112671, 0.513883650302887, 0.5678912401199341, 0.5359259247779846, 0.6178082227706909, 0.5342906713485718, 0.6002762913703918, 0.6009461283683777, 0.6090599298477173, 0.62326979637146, 0.6277835965156555, 0.3616392910480499, 0.5974118113517761, 0.6061212420463562, 0.5933055877685547, 0.5690064430236816, 0.41924744844436646, 0.5340879559516907, 0.549532949924469, 0.5629092454910278, 0.4642046093940735, 0.501731276512146, 0.6279174089431763, 0.5717843174934387, 0.5652108788490295, 0.5445003509521484, 0.5654259920120239, 0.6118667125701904, 0.5836018323898315, 0.657609224319458, 0.6386814117431641, 0.6853755712509155, 0.6633808016777039, 0.6607804894447327, 0.6319304704666138, 0.6992611289024353, 0.6125628352165222, 0.5982031226158142, 0.6493326425552368, 0.43690019845962524, 0.6974389553070068, 0.6401578783988953, 0.6529671549797058, 0.6398259997367859, 0.6751955151557922, 0.6743283271789551, 0.5213709473609924, 0.597974419593811, 0.5984072685241699, 0.621444582939148, 0.5908140540122986, 0.4836268424987793, 0.6054728031158447, 0.6193270683288574, 0.6569755673408508, 0.49964186549186707, 0.7044343948364258, 0.49544140696525574, 0.5920904278755188, 0.5632215142250061, 0.5942004919052124, 0.45862019062042236, 0.5212149620056152, 0.4021662771701813, 0.57284015417099, 0.6082045435905457, 0.6264360547065735, 0.46933260560035706, 0.6218374371528625, 0.5527873039245605, 0.5372758507728577, 0.5325559973716736, 0.5571871399879456, 0.6365545988082886, 0.5551615953445435, 0.4839920997619629, 0.5672367215156555, 0.5405507683753967, 0.6092066168785095, 0.5298981666564941, 0.5389963388442993, 0.5393529534339905, 0.677067220211029, 0.47816699743270874, 0.6380505561828613, 0.5829403400421143, 0.613637387752533, 0.5799088478088379, 0.6403553485870361, 0.6035112738609314, 0.6487143039703369, 0.6567310094833374, 0.6491317749023438, 0.6986631751060486, 0.6803959012031555, 0.6989523768424988, 0.7272455096244812, 0.6661655902862549, 0.6105257868766785, 0.5685806274414062, 0.5001395344734192, 0.5506525635719299, 0.5560621619224548, 0.5774240493774414, 0.585587739944458, 0.5502548813819885, 0.6425197124481201, 0.726952314376831, 0.7124930024147034, 0.7444536089897156, 0.635927677154541, 0.5301951766014099, 0.660747230052948, 0.5032353401184082, 0.5018466711044312, 0.5136351585388184, 0.6288427114486694, 0.6028486490249634, 0.6150270700454712, 0.6189323663711548, 0.6187208294868469, 0.4267633855342865, 0.536959707736969, 0.6623857021331787, 0.6687417030334473, 0.661745548248291, 0.49728894233703613, 0.42064353823661804, 0.6205251216888428, 0.6270304918289185, 0.657893717288971, 0.6934646964073181, 0.6707974672317505, 0.5680475831031799, 0.5424178242683411, 0.6580381393432617, 0.660110354423523, 0.6138270497322083, 0.6093588471412659, 0.6131545305252075, 0.622948944568634, 0.5691477656364441, 0.6635984778404236, 0.633840024471283, 0.6308917999267578, 0.6071681380271912, 0.5822221636772156, 0.48990878462791443, 0.633398711681366, 0.6182379126548767, 0.7103962898254395, 0.6579104065895081, 0.5792287588119507, 0.7237792015075684, 0.5698629021644592, 0.5818452835083008, 0.6671428680419922, 0.511788547039032, 0.6804516911506653, 0.6026906967163086, 0.641566812992096, 0.7448900938034058, 0.568235456943512, 0.7105981111526489, 0.5163813829421997, 0.7666386961936951, 0.6765096187591553, 0.6787237524986267, 0.6220163106918335, 0.5768059492111206, 0.6941331028938293, 0.6892278790473938, 0.6028984189033508, 0.7165178656578064, 0.7176544666290283, 0.6579916477203369, 0.7167488932609558, 0.6282925009727478, 0.5620414018630981, 0.6058334112167358, 0.4946688413619995, 0.616906464099884, 0.6296160817146301, 0.7100923657417297, 0.6263834834098816, 0.7277194857597351, 0.5659652948379517, 0.6044485569000244, 0.7086144685745239, 0.5003371238708496, 0.6208252310752869, 0.6232661604881287, 0.5694094300270081, 0.6195202469825745, 0.7000830173492432, 0.6408659219741821, 0.6794694066047668, 0.5453453063964844, 0.6671462655067444, 0.708249568939209, 0.7306547164916992, 0.6722056269645691, 0.7210947871208191, 0.7391619086265564, 0.6051154732704163, 0.6226035356521606, 0.7167096734046936, 0.7081166505813599, 0.6735445261001587, 0.7155148386955261, 0.7134100794792175, 0.7080498933792114, 0.6785332560539246, 0.6215944290161133, 0.7007995247840881, 0.741769015789032, 0.7632042169570923, 0.1226901188492775, 0.2499086558818817, 0.29143673181533813, 0.22678104043006897, 0.299449622631073, 0.3229816257953644, 0.33454933762550354, 0.3596484959125519, 0.3032524287700653, 0.32951152324676514, 0.29621002078056335, 0.29326850175857544, 0.2784852385520935, 0.3588743805885315, 0.22524894773960114, 0.32033005356788635, 0.31898611783981323, 0.23353560268878937, 0.183555468916893, 0.2248472422361374, 0.2480141669511795, 0.26875725388526917, 0.28592950105667114, 0.2312791645526886, 0.19700327515602112, 0.3552563488483429, 0.19343025982379913, 0.19474585354328156, 0.2620309591293335, 0.26338550448417664, 0.3064593970775604, 0.2904908061027527, 0.3036963939666748, 0.32311156392097473, 0.32109639048576355, 0.28289562463760376, 0.2835090160369873, 0.250037282705307, 0.2388514131307602, 0.29500332474708557, 0.2149169147014618, 0.3421372175216675, 0.3703572452068329, 0.23096448183059692, 0.20515809953212738, 0.20601247251033783, 0.2872498631477356, 0.30436864495277405, 0.3027842342853546, 0.2347295731306076, 0.3637692630290985, 0.28497761487960815, 0.2006983906030655, 0.2400062382221222, 0.31397125124931335, 0.3416232466697693, 0.27239173650741577, 0.2887342870235443, 0.3286631107330322, 0.3093629479408264, 0.4119414687156677, 0.22640138864517212, 0.17853239178657532, 0.30228424072265625, 0.26561957597732544, 0.2891533374786377, 0.33289414644241333, 0.32531166076660156, 0.302669882774353, 0.26069146394729614, 0.25310900807380676, 0.23389649391174316, 0.3158164322376251, 0.26578015089035034, 0.17839963734149933, 0.23507188260555267, 0.2938167154788971, 0.3202279508113861, 0.257239431142807, 0.20421317219734192, 0.2999768853187561, 0.2836914360523224, 0.23928126692771912, 0.30549177527427673, 0.30377405881881714, 0.2669232189655304, 0.2718377411365509, 0.2847289443016052, 0.21155261993408203, 0.27266111969947815, 0.2716987729072571, 0.3621772527694702, 0.3660221993923187, 0.44644272327423096, 0.2096506655216217, 0.3213176131248474, 0.2265070527791977, 0.2757401466369629, 0.37393686175346375, 0.33665746450424194, 0.29692837595939636, 0.21177706122398376, 0.3299129903316498, 0.3051528036594391, 0.2992183268070221, 0.2638368606567383, 0.3810643255710602, 0.29782551527023315, 0.23630301654338837, 0.3583420515060425, 0.29845431447029114, 0.30902403593063354, 0.2659668028354645, 0.28830239176750183, 0.31458011269569397, 0.369698166847229, 0.22853702306747437, 0.34886181354522705, 0.39309757947921753, 0.32208529114723206, 0.30346745252609253, 0.43195974826812744, 0.27116987109184265, 0.27834492921829224, 0.30806347727775574, 0.3206668794155121, 0.26883506774902344, 0.3258175253868103, 0.3412080705165863, 0.30699071288108826, 0.30787187814712524, 0.37520167231559753, 0.36640942096710205, 0.377023309469223, 0.37287095189094543, 0.38129761815071106, 0.36252567172050476, 0.3852066099643707, 0.27943629026412964, 0.32508140802383423, 0.3063637912273407, 0.32964780926704407, 0.3042071461677551, 0.2611222565174103, 0.3708089590072632, 0.28927507996559143, 0.3255425691604614, 0.3055137097835541, 0.32611507177352905, 0.2750531733036041, 0.307723730802536, 0.26276275515556335, 0.4161838889122009, 0.4101734459400177, 0.43871936202049255, 0.3193906545639038, 0.28229430317878723, 0.2942107915878296, 0.2893918454647064, 0.32423457503318787, 0.41291260719299316, 0.3759998381137848, 0.2539677023887634, 0.34005075693130493, 0.23897676169872284, 0.3276855945587158, 0.2726839482784271, 0.27185994386672974, 0.24382224678993225, 0.28209733963012695, 0.32980018854141235, 0.31588149070739746, 0.39920130372047424, 0.418632835149765, 0.3732403814792633, 0.26387202739715576, 0.3661012351512909, 0.36023908853530884, 0.25628402829170227, 0.25591158866882324, 0.431223601102829, 0.2870679497718811, 0.3312509059906006, 0.2721627950668335, 0.3871675431728363, 0.4195557236671448, 0.4060056507587433, 0.3574475646018982, 0.28895485401153564, 0.3404068350791931, 0.3425292670726776, 0.2914421260356903, 0.3325764536857605, 0.28689253330230713, 0.37747466564178467, 0.26002952456474304, 0.3440927267074585, 0.24307236075401306, 0.25154563784599304, 0.2925478518009186, 0.4167519211769104, 0.3318466544151306, 0.3213774859905243, 0.3309595286846161, 0.27940264344215393, 0.3433162569999695, 0.2649793028831482, 0.2850724160671234, 0.410290390253067, 0.3569432497024536, 0.30920684337615967, 0.3279423415660858, 0.4004502594470978, 0.384416788816452, 0.41110020875930786, 0.30105528235435486, 0.3493971526622772, 0.3253609240055084, 0.3264172375202179, 0.3940261900424957, 0.4000304937362671, 0.3476075232028961, 0.36031100153923035, 0.316924124956131, 0.30223703384399414, 0.2975291907787323, 0.30959874391555786, 0.24013178050518036, 0.30600762367248535, 0.31757763028144836, 0.3182221055030823, 0.42471569776535034, 0.3474634289741516, 0.3984929025173187, 0.39743709564208984, 0.3507550060749054, 0.3402040898799896, 0.39369258284568787, 0.3601028025150299, 0.3856307864189148, 0.47224387526512146, 0.554680347442627, 0.2852341830730438, 0.4766164720058441, 0.41988298296928406, 0.29381483793258667, 0.467467337846756, 0.4051341414451599, 0.383566677570343, 0.35216274857521057, 0.3798469305038452, 0.2528165280818939, 0.27892693877220154, 0.42626306414604187, 0.30085375905036926, 0.32681941986083984, 0.3830479681491852, 0.47276464104652405, 0.4724101722240448, 0.3972146511077881, 0.31080162525177, 0.29756295680999756, 0.3124294877052307, 0.3964992165565491, 0.3338940143585205, 0.39593619108200073, 0.3177037239074707, 0.4109134078025818, 0.3988410234451294, 0.39021748304367065, 0.44131001830101013, 0.4272238314151764, 0.4572173058986664, 0.5338196754455566, 0.394940048456192, 0.40825045108795166, 0.2845059037208557, 0.5484747290611267, 0.38722723722457886, 0.3621372878551483, 0.39699578285217285, 0.3979361951351166, 0.3325422704219818, 0.41274282336235046, 0.498953640460968, 0.41515323519706726, 0.4104147255420685, 0.45352455973625183, 0.4505288302898407, 0.37207314372062683, 0.44787612557411194, 0.3934348225593567, 0.35612645745277405, 0.3448430895805359, 0.3385569751262665, 0.3382495045661926, 0.3801606297492981, 0.35166415572166443, 0.38771605491638184, 0.3685542643070221, 0.42874085903167725, 0.4064088463783264, 0.3998092710971832, 0.4148925542831421, 0.4039556682109833, 0.33898088335990906, 0.35274478793144226, 0.4019416272640228, 0.34880000352859497, 0.4960305690765381, 0.4016886055469513, 0.3885478377342224, 0.39631620049476624, 0.2999763488769531, 0.43268609046936035, 0.4507088363170624, 0.5332601070404053, 0.4111606478691101, 0.5303288102149963, 0.512344241142273, 0.38191747665405273, 0.40480613708496094, 0.4076673090457916, 0.4699133336544037, 0.42928630113601685, 0.33750119805336, 0.5102461576461792, 0.4304670989513397, 0.37199243903160095, 0.43113359808921814, 0.47342199087142944, 0.42185667157173157, 0.29770204424858093, 0.4839911460876465, 0.4083792567253113, 0.45073172450065613, 0.3956829309463501, 0.28422024846076965, 0.3951238691806793, 0.39880046248435974, 0.37714651226997375, 0.5072796940803528, 0.4424898624420166, 0.5164263248443604, 0.40817055106163025, 0.4069726765155792, 0.27785924077033997, 0.42135146260261536, 0.3522379398345947, 0.487678587436676, 0.38635921478271484, 0.47238078713417053, 0.4442918002605438, 0.4106259346008301, 0.4084762930870056, 0.3493780195713043, 0.5058923959732056, 0.42403730750083923, 0.4784279465675354, 0.45220786333084106, 0.40336325764656067, 0.34586742520332336, 0.3392646014690399, 0.45565369725227356, 0.5328291058540344, 0.55132657289505, 0.36962905526161194, 0.5324425101280212, 0.6125652194023132, 0.5459465384483337, 0.6179771423339844, 0.4226072132587433, 0.4610064923763275, 0.36664673686027527, 0.4747706651687622, 0.4865151047706604, 0.48668015003204346, 0.4675631821155548, 0.5495635271072388, 0.4013769328594208, 0.537872850894928, 0.4822312891483307, 0.43365389108657837, 0.3908193111419678, 0.481657475233078, 0.47702980041503906, 0.4360758364200592, 0.4092656373977661, 0.4947478473186493, 0.494782030582428, 0.5176895260810852, 0.44465261697769165, 0.4855315387248993, 0.4603893458843231, 0.5242314338684082, 0.49158143997192383, 0.43906521797180176, 0.5153865218162537, 0.4100688695907593, 0.4505442678928375, 0.45385247468948364, 0.5127661824226379, 0.33904939889907837, 0.42452487349510193, 0.4928186237812042, 0.4871651530265808, 0.39307525753974915, 0.44090715050697327, 0.47363176941871643, 0.4647713601589203, 0.45943108201026917, 0.43829450011253357, 0.4369414448738098, 0.4401964843273163, 0.5114957690238953, 0.4970833659172058, 0.4499993920326233, 0.4732174277305603, 0.3955015242099762, 0.5186272859573364, 0.5318692326545715, 0.43799591064453125, 0.4483304023742676, 0.40372198820114136, 0.4934190809726715, 0.3773154616355896, 0.45593342185020447, 0.548556923866272, 0.5490298867225647, 0.4656456410884857, 0.32433146238327026, 0.44213923811912537, 0.5076143741607666, 0.3460403084754944, 0.5240730047225952, 0.5841516852378845, 0.5743614435195923, 0.5732714533805847, 0.6109583973884583, 0.5984305739402771, 0.5119410157203674, 0.30708396434783936, 0.4789550304412842, 0.5083465576171875, 0.4886394441127777, 0.4624811112880707, 0.6506897211074829, 0.600201427936554, 0.5911301970481873, 0.45020121335983276, 0.48295512795448303, 0.5182201862335205, 0.45161277055740356, 0.4288097620010376, 0.5568108558654785, 0.4260856807231903, 0.4388188123703003, 0.476909875869751, 0.5482675433158875, 0.4896312952041626, 0.5460165739059448, 0.4904364347457886, 0.49827808141708374, 0.5207299590110779, 0.5165262222290039, 0.45733532309532166, 0.4900508522987366, 0.5037868022918701, 0.5539877414703369, 0.5354341268539429, 0.5746000409126282, 0.5765902996063232, 0.515087366104126, 0.5128155946731567, 0.47401878237724304, 0.49361535906791687, 0.5345268845558167, 0.5600543022155762, 0.5396223068237305, 0.44021862745285034, 0.6471147537231445, 0.5693718791007996, 0.5778067708015442, 0.5542270541191101, 0.491143137216568, 0.5712007284164429, 0.4961491525173187, 0.42722705006599426, 0.6313558220863342, 0.506722629070282, 0.5786145925521851, 0.4887268841266632, 0.5952715873718262, 0.57523113489151, 0.5287067890167236, 0.5661647319793701, 0.5093477964401245, 0.6025761961936951]\n",
            "MAE:  0.06160157111742894 \tPearsonr:  (0.8655002638887942, 0.0)\n"
          ],
          "name": "stdout"
        }
      ]
    },
    {
      "cell_type": "code",
      "metadata": {
        "colab": {
          "base_uri": "https://localhost:8080/"
        },
        "id": "NyH5mkNF1gkC",
        "outputId": "012968fd-adaa-4882-fb90-22403fba9e62"
      },
      "source": [
        "test_train(trial_dataset_single, df_trial_single, network_in_use, True, 'trial-result-evaluation-multi.csv')"
      ],
      "execution_count": null,
      "outputs": [
        {
          "output_type": "stream",
          "text": [
            "[0.2931492328643799, 0.3160709738731384, 0.37945669889450073, 0.36522045731544495, 0.3316907286643982, 0.3525654375553131, 0.3631291687488556, 0.3752806782722473, 0.38426443934440613, 0.2858268618583679, 0.3318265974521637, 0.27454060316085815, 0.26327642798423767, 0.3229014575481415, 0.48698946833610535, 0.5461401343345642, 0.26267513632774353, 0.45259982347488403, 0.31384873390197754, 0.37336307764053345, 0.41976940631866455, 0.5159792900085449, 0.46393242478370667, 0.4303332269191742, 0.4802076816558838, 0.31900322437286377, 0.4161975383758545, 0.5421962738037109, 0.4049365818500519, 0.3053271472454071, 0.3246041238307953, 0.3200388550758362, 0.27476266026496887, 0.27594366669654846, 0.3339114785194397, 0.3124227523803711, 0.37575021386146545, 0.3052084445953369, 0.5288273096084595, 0.48134085536003113, 0.5247827172279358, 0.5364285111427307, 0.46789032220840454, 0.5218992233276367, 0.6726301312446594, 0.6055821180343628, 0.4048183858394623, 0.592890739440918, 0.6517005562782288, 0.6850031018257141, 0.6784517168998718, 0.6869003772735596, 0.681631863117218, 0.6464599370956421, 0.4539914131164551, 0.6414848566055298, 0.5389832854270935, 0.4391886293888092, 0.607529878616333, 0.5644270181655884, 0.5777391791343689, 0.6797770857810974, 0.2959144711494446, 0.4476482570171356, 0.29867932200431824, 0.29609307646751404, 0.38183271884918213, 0.46496450901031494, 0.504882276058197, 0.4331222176551819, 0.42067062854766846, 0.44201359152793884, 0.4546935260295868, 0.4097038805484772, 0.45111995935440063, 0.46309414505958557, 0.44512441754341125, 0.445307195186615, 0.3837224245071411, 0.3348456025123596, 0.3970664143562317, 0.3056218922138214, 0.2845788300037384, 0.4101862907409668, 0.3988257944583893, 0.44212111830711365, 0.31279027462005615, 0.274232417345047, 0.4946569502353668, 0.5950163006782532, 0.5399861335754395, 0.5876829028129578, 0.5617212653160095, 0.5551727414131165, 0.4301764667034149, 0.5219800472259521, 0.5482271909713745, 0.3870846629142761, 0.5574950575828552]\n",
            "MAE:  0.08928437312745084 \tPearsonr:  (0.717651933076746, 6.381181564159845e-17)\n"
          ],
          "name": "stdout"
        }
      ]
    },
    {
      "cell_type": "code",
      "metadata": {
        "colab": {
          "base_uri": "https://localhost:8080/"
        },
        "id": "SYrhKC501gkC",
        "outputId": "e88c048b-8d32-432f-e16a-607bae665370"
      },
      "source": [
        "test_train(test_dataset_single,df_test_single, network_in_use, True, 'test-result-evaluation-multi.csv', True)"
      ],
      "execution_count": null,
      "outputs": [
        {
          "output_type": "stream",
          "text": [
            "[0.2992874085903168, 0.3472228944301605, 0.3519381582736969, 0.3060207664966583, 0.49332043528556824, 0.291726291179657, 0.39221397042274475, 0.3044189214706421, 0.3645820915699005, 0.2178807407617569, 0.5249123573303223, 0.4272586405277252, 0.46233898401260376, 0.261376291513443, 0.5991198420524597, 0.509066641330719, 0.4740954637527466, 0.26640793681144714, 0.43963709473609924, 0.4569171071052551, 0.5153912901878357, 0.4854099452495575, 0.2835313379764557, 0.4391140341758728, 0.41370850801467896, 0.5049676895141602, 0.2780631482601166, 0.3048694133758545, 0.29248663783073425, 0.4535919427871704, 0.22636422514915466, 0.5581715106964111, 0.5425606369972229, 0.4655139446258545, 0.5397340655326843, 0.38635048270225525, 0.4962138235569, 0.5354791283607483, 0.27469050884246826, 0.253020316362381, 0.5565029978752136, 0.542026937007904, 0.47623002529144287, 0.3044593334197998, 0.28551986813545227, 0.30164116621017456, 0.13225075602531433, 0.2820371091365814, 0.29598015546798706, 0.4100893437862396, 0.34555110335350037, 0.47535285353660583, 0.2703756093978882, 0.309805303812027, 0.19032803177833557, 0.5332769751548767, 0.3888130784034729, 0.2653080224990845, 0.29998478293418884, 0.3610129952430725, 0.5086106657981873, 0.32464367151260376, 0.24401411414146423, 0.21918033063411713, 0.24702195823192596, 0.28950226306915283, 0.37368759512901306, 0.2777601480484009, 0.47111955285072327, 0.36162349581718445, 0.38323017954826355, 0.3604567050933838, 0.25382721424102783, 0.6093519926071167, 0.554063081741333, 0.5863600969314575, 0.33574753999710083, 0.6117584705352783, 0.6492217183113098, 0.3921073377132416, 0.6332117319107056, 0.6370317935943604, 0.4045397639274597, 0.7211875915527344, 0.4862549602985382, 0.5255932211875916, 0.6017504930496216, 0.45748844742774963, 0.6230930089950562, 0.23965319991111755, 0.3948041498661041, 0.6153387427330017, 0.5929116010665894, 0.4654659032821655, 0.6452832818031311, 0.4267015755176544, 0.3433495759963989, 0.6873649954795837, 0.3474559485912323, 0.36526018381118774, 0.5891091823577881, 0.6435980200767517, 0.41712942719459534, 0.5842044353485107, 0.4393322467803955, 0.3783600330352783, 0.28884679079055786, 0.4321819245815277, 0.6273099184036255, 0.4153793752193451, 0.7201833724975586, 0.3584553599357605, 0.6204482316970825, 0.3747864067554474, 0.6415587067604065, 0.6835918426513672, 0.6071092486381531, 0.2654048204421997, 0.46408411860466003, 0.5723347663879395, 0.2927228808403015, 0.6007694602012634, 0.4343087673187256, 0.39726290106773376, 0.5068798661231995, 0.44602999091148376, 0.4005240499973297, 0.5739831924438477, 0.4206082820892334, 0.4121769368648529, 0.24685712158679962, 0.5310298800468445, 0.35703709721565247, 0.4351511001586914, 0.36111027002334595, 0.48728519678115845, 0.253940612077713, 0.4480303227901459, 0.4613294005393982, 0.3833119869232178, 0.4369812607765198, 0.433182954788208, 0.5609902143478394, 0.5211318135261536, 0.3533290922641754, 0.3830789625644684, 0.5578830242156982, 0.44814789295196533, 0.2882915139198303, 0.43336570262908936, 0.5233793258666992, 0.3559969961643219, 0.3227803409099579, 0.3892796039581299, 0.5909885168075562, 0.46696314215660095, 0.39838916063308716, 0.489237904548645, 0.35588836669921875, 0.26153719425201416, 0.4418944716453552, 0.354656457901001, 0.6251055598258972, 0.40499982237815857, 0.3802955448627472, 0.5035805106163025, 0.3971113860607147, 0.23117998242378235, 0.5266222357749939, 0.37870779633522034, 0.3846226632595062, 0.6239398717880249, 0.5095804929733276, 0.32253149151802063, 0.4138791263103485, 0.4430500268936157, 0.576482355594635, 0.4634574055671692, 0.35763615369796753, 0.2780800461769104, 0.42721012234687805, 0.4887438118457794, 0.36788544058799744, 0.45195531845092773]\n"
          ],
          "name": "stdout"
        }
      ]
    }
  ]
}